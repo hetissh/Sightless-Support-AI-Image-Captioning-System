{
  "cells": [
    {
      "cell_type": "code",
      "execution_count": 2,
      "metadata": {
        "id": "RzEBchgSENr8"
      },
      "outputs": [],
      "source": [
        "import numpy as np\n",
        "import os\n",
        "import pickle\n",
        "from tqdm import tqdm\n",
        "import keras\n",
        "from tensorflow.keras.applications.vgg16 import VGG16, preprocess_input\n",
        "from tensorflow.keras.preprocessing.image import load_img, img_to_array\n",
        "from tensorflow.keras.preprocessing.text import Tokenizer\n",
        "from tensorflow.keras.preprocessing.sequence import pad_sequences\n",
        "from tensorflow.keras.utils import to_categorical, plot_model\n",
        "from tensorflow.keras.layers import Input, Dense, add, LSTM, Embedding, Dropout, Conv2D, MaxPooling2D, BatchNormalization, Flatten, Bidirectional\n",
        "from tensorflow.keras.models import Model, Sequential\n",
        "import tensorflow as tf"
      ]
    },
    {
      "cell_type": "code",
      "execution_count": 2,
      "metadata": {
        "id": "Di1n4v2sENsK"
      },
      "outputs": [],
      "source": [
        "base_dir = r\"D:\\Ammar's\\Datasets\\VizWiz\\VizWiz Dataset\"\n",
        "train_img_dir = os.path.join(base_dir, 'train')\n",
        "val_img_dir = os.path.join(base_dir, 'val')\n",
        "test_img_dir = os.path.join(base_dir, 'test')\n",
        "train_annot_dir = os.path.join(os.path.join(base_dir, 'annotations'), 'train.json')\n",
        "val_annot_dir = os.path.join(os.path.join(base_dir, 'annotations'), 'val.json')\n",
        "test_annot_dir = os.path.join(os.path.join(base_dir, 'annotations'), 'test.json')"
      ]
    },
    {
      "cell_type": "code",
      "execution_count": 3,
      "metadata": {
        "id": "jQwYndOhENsM"
      },
      "outputs": [],
      "source": [
        "import json\n",
        "\n",
        "with open(train_annot_dir, 'r') as file:\n",
        "    train_dict = json.load(file)\n",
        "\n",
        "with open(val_annot_dir, 'r') as file:\n",
        "    val_dict = json.load(file)\n",
        "\n",
        "with open(test_annot_dir, 'r') as file:\n",
        "    test_dict = json.load(file)"
      ]
    },
    {
      "cell_type": "code",
      "execution_count": 4,
      "metadata": {
        "id": "dS0PBFlzUJPY"
      },
      "outputs": [],
      "source": [
        "loaded_data_path = r\"D:\\Ammar's\\Datasets\\VizWiz\\loaded_data\""
      ]
    },
    {
      "cell_type": "code",
      "execution_count": 5,
      "metadata": {
        "id": "DjZpE48UUMAd"
      },
      "outputs": [],
      "source": [
        "import pickle \n",
        "pickle.dump(train_dict, open(os.path.join(loaded_data_path, 'train_dict.pkl'), 'wb'))\n",
        "pickle.dump(val_dict, open(os.path.join(loaded_data_path, 'val_dict.pkl'), 'wb'))\n",
        "pickle.dump(test_dict, open(os.path.join(loaded_data_path, 'test_dict.pkl'), 'wb'))"
      ]
    },
    {
      "cell_type": "code",
      "execution_count": 6,
      "metadata": {
        "id": "rVcDP5hRVOkQ"
      },
      "outputs": [],
      "source": [
        "with open(os.path.join(loaded_data_path, 'train_dict.pkl'), 'rb') as f:\n",
        "  train_dict = pickle.load(f)\n",
        "with open(os.path.join(loaded_data_path, 'val_dict.pkl'), 'rb') as f:\n",
        "  val_dict = pickle.load(f)\n",
        "with open(os.path.join(loaded_data_path, 'test_dict.pkl'), 'rb') as f:\n",
        "  test_dict = pickle.load(f)"
      ]
    },
    {
      "cell_type": "code",
      "execution_count": 5,
      "metadata": {
        "id": "y3ZZYel5ENsP"
      },
      "outputs": [],
      "source": [
        "train_img_mapping = {}\n",
        "\n",
        "for indiv_dict in train_dict['images']:\n",
        "    img_name = indiv_dict['file_name']\n",
        "    img_id = indiv_dict['id']\n",
        "    train_img_mapping[img_name] = img_id"
      ]
    },
    {
      "cell_type": "code",
      "execution_count": 6,
      "metadata": {
        "id": "1BrPycVJENsQ"
      },
      "outputs": [],
      "source": [
        "val_img_mapping = {}\n",
        "\n",
        "for indiv_dict in val_dict['images']:\n",
        "    img_name = indiv_dict['file_name']\n",
        "    img_id = indiv_dict['id']\n",
        "    val_img_mapping[img_name] = img_id"
      ]
    },
    {
      "cell_type": "code",
      "execution_count": 7,
      "metadata": {
        "id": "-P1b5eD3gIgw"
      },
      "outputs": [],
      "source": [
        "test_img_mapping = {}\n",
        "\n",
        "for indiv_dict in test_dict['images']:\n",
        "    img_name = indiv_dict['file_name']\n",
        "    img_id = indiv_dict['id']\n",
        "    test_img_mapping[img_name] = img_id"
      ]
    },
    {
      "cell_type": "code",
      "execution_count": 10,
      "metadata": {
        "id": "MfoiPF06FuDu"
      },
      "outputs": [],
      "source": [
        "import pickle \n",
        "pickle.dump(train_img_mapping, open(os.path.join(loaded_data_path, 'train_img_mapping.pkl'), 'wb'))\n",
        "pickle.dump(val_img_mapping, open(os.path.join(loaded_data_path, 'val_img_mapping.pkl'), 'wb'))"
      ]
    },
    {
      "cell_type": "code",
      "execution_count": 11,
      "metadata": {
        "id": "CIxqxhxJjnCo"
      },
      "outputs": [],
      "source": [
        "pickle.dump(test_img_mapping, open(os.path.join(loaded_data_path, 'test_img_mapping.pkl'), 'wb'))"
      ]
    },
    {
      "cell_type": "code",
      "execution_count": 5,
      "metadata": {
        "id": "R1ij3riIGUMc"
      },
      "outputs": [],
      "source": [
        "with open(os.path.join(loaded_data_path, 'train_img_mapping.pkl'), 'rb') as f:\n",
        "    train_img_mapping = pickle.load(f)\n",
        "with open(os.path.join(loaded_data_path, 'val_img_mapping.pkl'), 'rb') as f:\n",
        "    val_img_mapping = pickle.load(f)\n",
        "with open(os.path.join(loaded_data_path, 'test_img_mapping.pkl'), 'rb') as f:\n",
        "    test_img_mapping = pickle.load(f)"
      ]
    },
    {
      "cell_type": "code",
      "execution_count": 8,
      "metadata": {
        "colab": {
          "base_uri": "https://localhost:8080/"
        },
        "id": "5WU-5KIjHacQ",
        "outputId": "146e92ff-38f7-404c-eb14-dfed3cda1686"
      },
      "outputs": [
        {
          "data": {
            "text/plain": [
              "23431"
            ]
          },
          "execution_count": 8,
          "metadata": {},
          "output_type": "execute_result"
        }
      ],
      "source": [
        "len(train_img_mapping)"
      ]
    },
    {
      "cell_type": "code",
      "execution_count": 9,
      "metadata": {
        "colab": {
          "base_uri": "https://localhost:8080/"
        },
        "id": "1OAeTqTJHd34",
        "outputId": "41d35e6c-8ccf-4e87-9871-a50e8169218e"
      },
      "outputs": [
        {
          "data": {
            "text/plain": [
              "7750"
            ]
          },
          "execution_count": 9,
          "metadata": {},
          "output_type": "execute_result"
        }
      ],
      "source": [
        "len(val_img_mapping)"
      ]
    },
    {
      "cell_type": "code",
      "execution_count": 10,
      "metadata": {
        "colab": {
          "base_uri": "https://localhost:8080/"
        },
        "id": "UsZgpQdrkgaA",
        "outputId": "de030ae6-4489-4700-e68b-06abf46e4249"
      },
      "outputs": [
        {
          "data": {
            "text/plain": [
              "8000"
            ]
          },
          "execution_count": 10,
          "metadata": {},
          "output_type": "execute_result"
        }
      ],
      "source": [
        "len(test_img_mapping)"
      ]
    },
    {
      "cell_type": "code",
      "execution_count": 11,
      "metadata": {
        "id": "fFWkBJfAENsS"
      },
      "outputs": [],
      "source": [
        "HEIGHT = 224\n",
        "WIDTH = 224\n",
        "\n",
        "shape = (HEIGHT, WIDTH, 3)"
      ]
    },
    {
      "cell_type": "code",
      "execution_count": 17,
      "metadata": {
        "colab": {
          "base_uri": "https://localhost:8080/"
        },
        "id": "EIO3eVK1ENsh",
        "outputId": "409eb4f6-5813-42d6-e836-4b696319c366"
      },
      "outputs": [
        {
          "name": "stdout",
          "output_type": "stream",
          "text": [
            "Model: \"model\"\n",
            "_________________________________________________________________\n",
            " Layer (type)                Output Shape              Param #   \n",
            "=================================================================\n",
            " input_1 (InputLayer)        [(None, 224, 224, 3)]     0         \n",
            "                                                                 \n",
            " block1_conv1 (Conv2D)       (None, 224, 224, 64)      1792      \n",
            "                                                                 \n",
            " block1_conv2 (Conv2D)       (None, 224, 224, 64)      36928     \n",
            "                                                                 \n",
            " block1_pool (MaxPooling2D)  (None, 112, 112, 64)      0         \n",
            "                                                                 \n",
            " block2_conv1 (Conv2D)       (None, 112, 112, 128)     73856     \n",
            "                                                                 \n",
            " block2_conv2 (Conv2D)       (None, 112, 112, 128)     147584    \n",
            "                                                                 \n",
            " block2_pool (MaxPooling2D)  (None, 56, 56, 128)       0         \n",
            "                                                                 \n",
            " block3_conv1 (Conv2D)       (None, 56, 56, 256)       295168    \n",
            "                                                                 \n",
            " block3_conv2 (Conv2D)       (None, 56, 56, 256)       590080    \n",
            "                                                                 \n",
            " block3_conv3 (Conv2D)       (None, 56, 56, 256)       590080    \n",
            "                                                                 \n",
            " block3_pool (MaxPooling2D)  (None, 28, 28, 256)       0         \n",
            "                                                                 \n",
            " block4_conv1 (Conv2D)       (None, 28, 28, 512)       1180160   \n",
            "                                                                 \n",
            " block4_conv2 (Conv2D)       (None, 28, 28, 512)       2359808   \n",
            "                                                                 \n",
            " block4_conv3 (Conv2D)       (None, 28, 28, 512)       2359808   \n",
            "                                                                 \n",
            " block4_pool (MaxPooling2D)  (None, 14, 14, 512)       0         \n",
            "                                                                 \n",
            " block5_conv1 (Conv2D)       (None, 14, 14, 512)       2359808   \n",
            "                                                                 \n",
            " block5_conv2 (Conv2D)       (None, 14, 14, 512)       2359808   \n",
            "                                                                 \n",
            " block5_conv3 (Conv2D)       (None, 14, 14, 512)       2359808   \n",
            "                                                                 \n",
            " block5_pool (MaxPooling2D)  (None, 7, 7, 512)         0         \n",
            "                                                                 \n",
            " flatten (Flatten)           (None, 25088)             0         \n",
            "                                                                 \n",
            " fc1 (Dense)                 (None, 4096)              102764544 \n",
            "                                                                 \n",
            " fc2 (Dense)                 (None, 4096)              16781312  \n",
            "                                                                 \n",
            "=================================================================\n",
            "Total params: 134,260,544\n",
            "Trainable params: 134,260,544\n",
            "Non-trainable params: 0\n",
            "_________________________________________________________________\n"
          ]
        }
      ],
      "source": [
        "# Define VGG16 Model\n",
        "model = VGG16()\n",
        "model = Model(inputs=model.inputs, outputs=model.layers[-2].output)\n",
        "model.summary()"
      ]
    },
    {
      "cell_type": "code",
      "execution_count": 12,
      "metadata": {
        "id": "kN6cg3kFENsj"
      },
      "outputs": [],
      "source": [
        "def get_features(model, split_set, set_dict):\n",
        "    image_features = {}\n",
        "    directory = os.path.join(base_dir, split_set)\n",
        "\n",
        "    for img_name in tqdm(os.listdir(directory)):\n",
        "        if not (img_name in set_dict.keys()): continue\n",
        "        # Load an image\n",
        "        img_path = os.path.join(directory, img_name)\n",
        "        img = load_img(img_path, target_size=(HEIGHT, WIDTH))\n",
        "        # Convert image into numpy pixel values\n",
        "        img = img_to_array(img)\n",
        "        # Reshape the data for the model\n",
        "        img = img.reshape((1, img.shape[0], img.shape[1], img.shape[2]))\n",
        "        # Preprocess\n",
        "        img = tf.keras.applications.resnet50.preprocess_input(img)\n",
        "        # Extract features\n",
        "        feature = model.predict(img, verbose=0)\n",
        "        # Map img_id with its features\n",
        "        img_id = set_dict[img_name]\n",
        "        image_features[img_id] = feature\n",
        "    return image_features"
      ]
    },
    {
      "cell_type": "code",
      "execution_count": null,
      "metadata": {
        "colab": {
          "base_uri": "https://localhost:8080/"
        },
        "id": "QFgqOUG9ENsk",
        "outputId": "51f49182-fc30-4f3a-a1a2-b9a04e1c67a0"
      },
      "outputs": [],
      "source": [
        "train_img_features = get_features(model, 'train', train_img_mapping)\n",
        "val_img_features = get_features(model, 'val', val_img_mapping)\n",
        "test_img_features = get_features(model, 'test', test_img_mapping)"
      ]
    },
    {
      "cell_type": "code",
      "execution_count": null,
      "metadata": {},
      "outputs": [],
      "source": [
        "train_img_features_path = os.path.join(loaded_data_path, 'train_img_features_vgg16.pkl')\n",
        "val_img_features_path = os.path.join(loaded_data_path, 'val_img_features_vgg16.pkl')\n",
        "test_img_features_path = os.path.join(loaded_data_path, 'test_img_features_vgg16.pkl')"
      ]
    },
    {
      "cell_type": "code",
      "execution_count": null,
      "metadata": {
        "id": "UBxm_l78xko4"
      },
      "outputs": [],
      "source": [
        "pickle.dump(test_img_features, open(test_img_features_path, 'wb'))\n",
        "pickle.dump(train_img_features, open(train_img_features_path, 'wb'))\n",
        "pickle.dump(val_img_features, open(val_img_features_path, 'wb'))"
      ]
    },
    {
      "cell_type": "code",
      "execution_count": null,
      "metadata": {
        "id": "qp5pAqjBENsm"
      },
      "outputs": [],
      "source": [
        "with open(train_img_features_path, 'rb') as f:\n",
        "    train_img_features = pickle.load(f)\n",
        "with open(val_img_features_path, 'rb') as f:\n",
        "    val_img_features = pickle.load(f)\n",
        "with open(test_img_features_path, 'rb') as f:\n",
        "    test_img_features = pickle.load(f)"
      ]
    },
    {
      "cell_type": "code",
      "execution_count": 21,
      "metadata": {
        "id": "RaDwzuAAENsm"
      },
      "outputs": [],
      "source": [
        "def get_captions(img_name, dict_set):\n",
        "    img_captions = []\n",
        "    i = 1\n",
        "    for d in dict_set['images']:\n",
        "        encountered = False\n",
        "        if d.get('file_name') == img_name:\n",
        "            img_id = d.get('id')\n",
        "            for k in dict_set['annotations']:\n",
        "                if k.get('image_id') != img_id and encountered: break\n",
        "                if k.get('image_id') == img_id:\n",
        "                    encountered = True\n",
        "                    if k.get('is_rejected') == False:\n",
        "                        img_captions.append(k.get('caption'))\n",
        "                 \n",
        "    return img_captions"
      ]
    },
    {
      "cell_type": "code",
      "execution_count": 22,
      "metadata": {
        "colab": {
          "base_uri": "https://localhost:8080/"
        },
        "id": "4cqegpADENsn",
        "outputId": "4ac65cf8-8e5f-43c9-f242-ee5166b447b6"
      },
      "outputs": [
        {
          "name": "stderr",
          "output_type": "stream",
          "text": [
            "100%|██████████| 23431/23431 [05:04<00:00, 76.97it/s]\n"
          ]
        }
      ],
      "source": [
        "train_img_to_captions = {}\n",
        "\n",
        "for img_name, img_id in tqdm(train_img_mapping.items()):\n",
        "    if img_id not in train_img_to_captions:\n",
        "        train_img_to_captions[img_id] = get_captions(img_name, train_dict)\n",
        "\n",
        "pickle.dump(train_img_to_captions, open(os.path.join(loaded_data_path, 'train_img_to_captions.pkl'), 'wb'))"
      ]
    },
    {
      "cell_type": "code",
      "execution_count": 23,
      "metadata": {
        "colab": {
          "base_uri": "https://localhost:8080/"
        },
        "id": "bDUZGvzLENsn",
        "outputId": "4a9636b9-18b4-454f-98c1-4b09ecdbfbc5"
      },
      "outputs": [
        {
          "name": "stderr",
          "output_type": "stream",
          "text": [
            "100%|██████████| 7750/7750 [00:33<00:00, 232.52it/s]\n"
          ]
        }
      ],
      "source": [
        "# Do it for validation\n",
        "val_img_to_captions = {}\n",
        "\n",
        "for img_name, img_id in tqdm(val_img_mapping.items()):\n",
        "    if img_id not in val_img_to_captions:\n",
        "        val_img_to_captions[img_id] = get_captions(img_name, val_dict)\n",
        "\n",
        "pickle.dump(val_img_to_captions, open(os.path.join(loaded_data_path, 'val_img_to_captions.pkl'), 'wb'))"
      ]
    },
    {
      "cell_type": "code",
      "execution_count": 24,
      "metadata": {},
      "outputs": [],
      "source": [
        "with open(os.path.join(loaded_data_path, 'train_img_to_captions.pkl'), 'wb') as f:\n",
        "    pickle.dump(train_img_to_captions, f)\n",
        "with open(os.path.join(loaded_data_path, 'val_img_to_captions.pkl'), 'wb') as f:\n",
        "    pickle.dump(val_img_to_captions, f)"
      ]
    },
    {
      "cell_type": "code",
      "execution_count": 13,
      "metadata": {
        "id": "bT_vjHUHVoKU"
      },
      "outputs": [],
      "source": [
        "with open(os.path.join(loaded_data_path, 'train_img_to_captions.pkl'), 'rb') as f:\n",
        "    train_img_to_captions = pickle.load(f)\n",
        "with open(os.path.join(loaded_data_path, 'val_img_to_captions.pkl'), 'rb') as f:\n",
        "    val_img_to_captions = pickle.load(f)"
      ]
    },
    {
      "cell_type": "code",
      "execution_count": null,
      "metadata": {
        "id": "HZ1Kf5M-cgnI"
      },
      "outputs": [],
      "source": [
        "img_features = dict(list(train_img_features.items()) + list(val_img_features.items()))"
      ]
    },
    {
      "cell_type": "code",
      "execution_count": null,
      "metadata": {
        "id": "d6bzsJJI_7OW"
      },
      "outputs": [],
      "source": [
        "train_img_features = []\n",
        "val_img_features = []"
      ]
    },
    {
      "cell_type": "code",
      "execution_count": 14,
      "metadata": {
        "id": "httZIDubENsn"
      },
      "outputs": [],
      "source": [
        "def preprocess_text(mapping):\n",
        "    for key, captions in mapping.items():\n",
        "        for i in range(len(captions)):\n",
        "            caption = captions[i]\n",
        "            caption = caption.lower()\n",
        "            caption = caption.replace('[^A-Za-z]', '')\n",
        "            caption = caption.replace('\\s+', '')\n",
        "            caption = 'startseq ' + ' '.join([word for word in caption.split() if len(word) > 1]) + ' endseq'\n",
        "            captions[i] = caption"
      ]
    },
    {
      "cell_type": "code",
      "execution_count": 15,
      "metadata": {
        "colab": {
          "base_uri": "https://localhost:8080/"
        },
        "id": "AMyA5YrNENso",
        "outputId": "23966fa4-e5ec-4a60-ac33-9373067fe924"
      },
      "outputs": [
        {
          "data": {
            "text/plain": [
              "['ITS IS A BASIL LEAVES CONTAINER ITS CONTAINS THE NET WEIGHT TOO.',\n",
              " 'A green and white plastic condiment bottle containing Basil leaves.',\n",
              " 'A bottle of spices in a plastic container laying on a surface.',\n",
              " 'some basil leaves in a container on a counter']"
            ]
          },
          "execution_count": 15,
          "metadata": {},
          "output_type": "execute_result"
        }
      ],
      "source": [
        "# Before preprocessing captions:\n",
        "train_img_to_captions[0]"
      ]
    },
    {
      "cell_type": "code",
      "execution_count": 16,
      "metadata": {
        "colab": {
          "base_uri": "https://localhost:8080/"
        },
        "id": "s91yDbSxENso",
        "outputId": "99fac1a5-9043-4f50-ce4b-8e1a8559c319"
      },
      "outputs": [
        {
          "data": {
            "text/plain": [
              "['startseq its is basil leaves container its contains the net weight too. endseq',\n",
              " 'startseq green and white plastic condiment bottle containing basil leaves. endseq',\n",
              " 'startseq bottle of spices in plastic container laying on surface. endseq',\n",
              " 'startseq some basil leaves in container on counter endseq']"
            ]
          },
          "execution_count": 16,
          "metadata": {},
          "output_type": "execute_result"
        }
      ],
      "source": [
        "# After preprocessing\n",
        "preprocess_text(train_img_to_captions)\n",
        "train_img_to_captions[0]"
      ]
    },
    {
      "cell_type": "code",
      "execution_count": 17,
      "metadata": {
        "id": "4ouA-7_3mCFt"
      },
      "outputs": [],
      "source": [
        "preprocess_text(val_img_to_captions)"
      ]
    },
    {
      "cell_type": "code",
      "execution_count": 18,
      "metadata": {
        "id": "tqlxhZmKpdOg"
      },
      "outputs": [],
      "source": [
        "img_to_captions = dict(list(train_img_to_captions.items()) + list(val_img_to_captions.items()))"
      ]
    },
    {
      "cell_type": "code",
      "execution_count": 19,
      "metadata": {
        "colab": {
          "base_uri": "https://localhost:8080/"
        },
        "id": "jdur_sg9ENsp",
        "outputId": "60d5596c-3ea7-47c9-d717-ffd51e171faf"
      },
      "outputs": [
        {
          "data": {
            "text/plain": [
              "151773"
            ]
          },
          "execution_count": 19,
          "metadata": {},
          "output_type": "execute_result"
        }
      ],
      "source": [
        "# Get all vocabulary \n",
        "\n",
        "all_captions = []\n",
        "\n",
        "for key in img_to_captions.keys():\n",
        "    for caption in img_to_captions[key]:\n",
        "        all_captions.append(caption)\n",
        "\n",
        "len(all_captions)"
      ]
    },
    {
      "cell_type": "code",
      "execution_count": 20,
      "metadata": {
        "colab": {
          "base_uri": "https://localhost:8080/"
        },
        "id": "AhvUzZNJENsp",
        "outputId": "29954432-e09a-4b90-86a1-33e73432e1da"
      },
      "outputs": [
        {
          "data": {
            "text/plain": [
              "20571"
            ]
          },
          "execution_count": 20,
          "metadata": {},
          "output_type": "execute_result"
        }
      ],
      "source": [
        "# Tokenize the text\n",
        "tokenizer = Tokenizer()\n",
        "tokenizer.fit_on_texts(all_captions)\n",
        "vocab_size = len(tokenizer.word_index) + 1\n",
        "vocab_size"
      ]
    },
    {
      "cell_type": "code",
      "execution_count": 21,
      "metadata": {
        "id": "vvCCnChVJejU"
      },
      "outputs": [],
      "source": [
        "with open(os.path.join(loaded_data_path, 'vocab.pkl'), 'wb') as f:\n",
        "  pickle.dump(tokenizer, f)"
      ]
    },
    {
      "cell_type": "code",
      "execution_count": 21,
      "metadata": {
        "colab": {
          "base_uri": "https://localhost:8080/"
        },
        "id": "90b9eKT_ENsp",
        "outputId": "54535e5b-53f6-4ed8-ad1d-6f2e66c80fac"
      },
      "outputs": [
        {
          "data": {
            "text/plain": [
              "150"
            ]
          },
          "execution_count": 21,
          "metadata": {},
          "output_type": "execute_result"
        }
      ],
      "source": [
        "# get max length of a caption:\n",
        "max_length = max(len(caption.split()) for caption in all_captions)\n",
        "max_length"
      ]
    },
    {
      "cell_type": "markdown",
      "metadata": {},
      "source": [
        "IGNORE THE COMMENTS. MULTIPLE SPLITS WERE TRIED OUT AND EXPERIMENTED WITH"
      ]
    },
    {
      "cell_type": "code",
      "execution_count": 22,
      "metadata": {
        "id": "aSVccM0GENsq"
      },
      "outputs": [
        {
          "name": "stdout",
          "output_type": "stream",
          "text": [
            "28062 3119\n"
          ]
        }
      ],
      "source": [
        "# Train test split\n",
        "img_ids = list(img_to_captions.keys())\n",
        "split_val = int(len(img_ids) * 0.9)\n",
        "train = img_ids[:split_val]\n",
        "# val = img_ids[split_val:]\n",
        "test = img_ids[split_val:]\n",
        "print(len(train), len(test))\n",
        "# temp = train\n",
        "# split = int(len(temp) * 0.9)\n",
        "# train = temp[:split]\n",
        "# test = temp[split:]"
      ]
    },
    {
      "cell_type": "code",
      "execution_count": 20,
      "metadata": {
        "colab": {
          "base_uri": "https://localhost:8080/"
        },
        "id": "KA2UfoxJfXib",
        "outputId": "8a5b1d83-39f8-4865-fa91-0c716278ff05"
      },
      "outputs": [
        {
          "name": "stdout",
          "output_type": "stream",
          "text": [
            "23852 2651 4678\n"
          ]
        }
      ],
      "source": [
        "print(len(train), len(test), len(val))"
      ]
    },
    {
      "cell_type": "code",
      "execution_count": 23,
      "metadata": {
        "id": "_OLY-vjgENsr"
      },
      "outputs": [],
      "source": [
        "# create data generator to fetch imgs and captions (get data in batches)\n",
        "def data_generator(data_keys, mapping, features, tokenizer, max_length, vocab_size, batch_size):\n",
        "    x1, x2, y = list(), list(), list()\n",
        "    n = 0\n",
        "    while 1:\n",
        "        for key in data_keys:\n",
        "            n += 1\n",
        "            captions = mapping[key]\n",
        "            for caption in captions:\n",
        "                # Encoding the sequence\n",
        "                seq = tokenizer.texts_to_sequences([caption])[0]\n",
        "                # Split the seq into x, y pairs\n",
        "                for i in range(1, len(seq)):\n",
        "                    in_seq, out_seq = seq[:i], seq[i]\n",
        "                    in_seq = pad_sequences([in_seq], maxlen=max_length)[0]\n",
        "                    out_seq = to_categorical([out_seq], num_classes=vocab_size)[0]\n",
        "\n",
        "                    # Store seqs\n",
        "                    x1.append(features[key][0])\n",
        "                    x2.append(in_seq)\n",
        "                    y.append(out_seq)\n",
        "            if n == batch_size:\n",
        "              x1, x2, y = np.array(x1), np.array(x2), np.array(y)\n",
        "              yield [x1, x2], y\n",
        "              x1, x2, y = list(), list(), list()\n",
        "              n = 0   "
      ]
    },
    {
      "cell_type": "code",
      "execution_count": 31,
      "metadata": {
        "colab": {
          "base_uri": "https://localhost:8080/",
          "height": 754
        },
        "id": "72JTKEQGENsr",
        "outputId": "9b30301c-7228-4e4e-be4a-4e3f4a4f7031"
      },
      "outputs": [
        {
          "data": {
            "image/png": "[encoded data removed]",
            "text/plain": [
              "<IPython.core.display.Image object>"
            ]
          },
          "execution_count": 31,
          "metadata": {},
          "output_type": "execute_result"
        }
      ],
      "source": [
        "conv_inputs = Input(shape=(4096,))\n",
        "fe1 = Dropout(0.5)(conv_inputs)\n",
        "fe2 = Dense(256, activation='relu')(fe1)\n",
        "\n",
        "seq_inputs = Input(shape=(max_length,))\n",
        "se1 = Embedding(vocab_size, 256, mask_zero=True)(seq_inputs) # try pretrained embedding\n",
        "se2 = Dropout(0.5)(se1)\n",
        "se3 = LSTM(256)(se2)\n",
        "\n",
        "# Decoder model\n",
        "decoder1 = add([fe2, se3])\n",
        "decoder2 = Dense(256, activation='relu')(decoder1)\n",
        "outputs = Dense(vocab_size, activation='softmax')(decoder2)\n",
        "\n",
        "model = Model(inputs=[conv_inputs, seq_inputs], outputs=outputs)\n",
        "model.compile(loss='categorical_crossentropy', optimizer='adam')\n",
        "\n",
        "plot_model(model, show_shapes=True)"
      ]
    },
    {
      "cell_type": "code",
      "execution_count": 32,
      "metadata": {
        "id": "uz25MjhM2UMj"
      },
      "outputs": [],
      "source": [
        "from keras.callbacks import ModelCheckpoint, EarlyStopping\n",
        "\n",
        "# ModelCheckpoint callback - save best weights\n",
        "tl_checkpoint_1 = ModelCheckpoint(filepath=r'D:\\VizWiz Dataset\\loaded_models\\vgg16_model.hdf5',\n",
        "                                  save_best_only=True,\n",
        "                                  verbose=1)\n",
        "\n",
        "# EarlyStopping\n",
        "early_stop = EarlyStopping(monitor='val_loss',\n",
        "                           patience=5,\n",
        "                           restore_best_weights=True,\n",
        "                           mode='min', verbose=1)"
      ]
    },
    {
      "cell_type": "code",
      "execution_count": null,
      "metadata": {
        "colab": {
          "base_uri": "https://localhost:8080/",
          "height": 782
        },
        "id": "hphCRc7nENsr",
        "outputId": "c7b6727e-a541-4eeb-cefa-07b7f2e30742"
      },
      "outputs": [],
      "source": [
        "epochs = 40\n",
        "batch_size = 32\n",
        "steps = len(train) // batch_size\n",
        "val_steps = len(val) // batch_size\n",
        "\n",
        "val_gen = data_generator(val, img_to_captions, img_features, tokenizer, max_length, vocab_size, batch_size)\n",
        "\n",
        "for i in range(epochs):\n",
        "    gen = data_generator(train, img_to_captions, img_features, tokenizer, max_length, vocab_size, batch_size)\n",
        "    model.fit(\n",
        "        gen, \n",
        "        epochs=1, \n",
        "        validation_data=val_gen, \n",
        "        validation_steps=val_steps, \n",
        "        steps_per_epoch=steps, \n",
        "        callbacks=[tl_checkpoint_1], \n",
        "        verbose=1)"
      ]
    },
    {
      "cell_type": "code",
      "execution_count": 36,
      "metadata": {
        "id": "kfkJEMU1Gt89"
      },
      "outputs": [],
      "source": [
        "conv_inputs = Input(shape=(4096,))\n",
        "fe1 = Dropout(0.4)(conv_inputs)\n",
        "fe2 = Dense(256, activation='relu')(fe1)\n",
        "\n",
        "seq_inputs = Input(shape=(max_length,))\n",
        "se1 = Embedding(vocab_size, 256, mask_zero=True)(seq_inputs)\n",
        "se2 = Dropout(0.4)(se1)\n",
        "se3 = LSTM(256)(se2)\n",
        "\n",
        "# Decoder model\n",
        "decoder1 = add([fe2, se3])\n",
        "decoder2 = Dense(256, activation='relu')(decoder1)\n",
        "outputs = Dense(vocab_size, activation='softmax')(decoder2)\n",
        "\n",
        "model = Model(inputs=[conv_inputs, seq_inputs], outputs=outputs)\n",
        "model.load_weights(r'D:\\VizWiz Dataset\\loaded_models\\vgg16_model.hdf5')\n",
        "model.compile(optimizer='adam', loss='categorical_crossentropy', )"
      ]
    },
    {
      "cell_type": "code",
      "execution_count": 42,
      "metadata": {
        "id": "PJW3E3glENss"
      },
      "outputs": [],
      "source": [
        "# generate captions\n",
        "def idx_to_word(integer, tokenizer):\n",
        "    for word, idx in tokenizer.word_index.items():\n",
        "        if idx == integer: return word\n",
        "    return None"
      ]
    },
    {
      "cell_type": "code",
      "execution_count": 41,
      "metadata": {
        "id": "XySzAGN-ENst"
      },
      "outputs": [],
      "source": [
        "def predict_caption(model, image, tokenizer, max_length):\n",
        "    in_text = 'startseq'\n",
        "    \n",
        "    for i in range(max_length):\n",
        "        sequence = tokenizer.texts_to_sequences([in_text])[0]\n",
        "        sequence = pad_sequences([sequence], max_length)\n",
        "        next_word = model.predict([np.array(image), np.array(sequence)], verbose=0)\n",
        "        next_word = np.argmax(next_word)\n",
        "        word = idx_to_word(next_word, tokenizer)\n",
        "        if word is None:\n",
        "            break\n",
        "        in_text += ' ' + word\n",
        "        if word == 'endseq': break\n",
        "    return in_text"
      ]
    },
    {
      "cell_type": "markdown",
      "metadata": {},
      "source": [
        "Results for VGG16 + LSTM"
      ]
    },
    {
      "cell_type": "code",
      "execution_count": 39,
      "metadata": {
        "colab": {
          "base_uri": "https://localhost:8080/"
        },
        "id": "O_AHFv_aENsv",
        "outputId": "27437c0a-2767-4dfa-a87e-e6d3f849f858"
      },
      "outputs": [
        {
          "name": "stderr",
          "output_type": "stream",
          "text": [
            "100%|██████████| 2651/2651 [50:29<00:00,  1.14s/it]  \n"
          ]
        },
        {
          "name": "stdout",
          "output_type": "stream",
          "text": [
            "BLEU-1: 0.49141938816506914\n",
            "BLEU-2: 0.33176431926372313\n"
          ]
        }
      ],
      "source": [
        "from nltk.translate.bleu_score import corpus_bleu\n",
        "import tensorflow as tf\n",
        "\n",
        "actual, predicted = list(), list()\n",
        "\n",
        "for key in tqdm(test):\n",
        "    captions = img_to_captions[key]\n",
        "    y_pred = predict_caption(model, img_features[key], tokenizer, max_length)\n",
        "\n",
        "    actual_captions = [caption.split() for caption in captions]\n",
        "    y_pred = y_pred.split()\n",
        "    actual.append(actual_captions)\n",
        "    predicted.append(y_pred)\n",
        "\n",
        "print(f'BLEU-1: {corpus_bleu(actual, predicted, weights=(1.0, 0, 0, 0))}')\n",
        "print(f'BLEU-2: {corpus_bleu(actual, predicted, weights=(0.5, 0.5, 0, 0))}')"
      ]
    },
    {
      "cell_type": "code",
      "execution_count": null,
      "metadata": {
        "id": "IuqSUCKOENsx"
      },
      "outputs": [],
      "source": [
        "# Visualize the results for VGG16\n",
        "\n",
        "from PIL import Image\n",
        "import matplotlib.pyplot as plt\n",
        "import random\n",
        "\n",
        "def pred_random_img(model):\n",
        "    idx = random.randint(len(test_dict['images']))\n",
        "    img_name = test_dict['images'][idx]['file_name']\n",
        "    img_id = test_img_mapping[img_name]\n",
        "    img_path = os.path.join(base_dir, 'test', img_name)\n",
        "    img = Image.open(img_path)\n",
        "    y_pred = predict_caption(model, test_img_features[img_id], tokenizer, max_length)\n",
        "    print('-------------------------Predicted-----------------------------')\n",
        "    print(y_pred)\n",
        "    plt.imshow(img)"
      ]
    },
    {
      "cell_type": "code",
      "execution_count": null,
      "metadata": {},
      "outputs": [],
      "source": [
        "pred_random_img(model)"
      ]
    },
    {
      "cell_type": "markdown",
      "metadata": {
        "id": "RWhh9Yu8F-ZM"
      },
      "source": [
        "# **VGG19**"
      ]
    },
    {
      "cell_type": "code",
      "execution_count": 40,
      "metadata": {
        "colab": {
          "base_uri": "https://localhost:8080/"
        },
        "id": "aJ5bZoWAGLXC",
        "outputId": "c9e7f788-2c24-47a9-906d-89bd801d8940"
      },
      "outputs": [
        {
          "name": "stdout",
          "output_type": "stream",
          "text": [
            "Model: \"model_4\"\n",
            "_________________________________________________________________\n",
            " Layer (type)                Output Shape              Param #   \n",
            "=================================================================\n",
            " input_7 (InputLayer)        [(None, 224, 224, 3)]     0         \n",
            "                                                                 \n",
            " block1_conv1 (Conv2D)       (None, 224, 224, 64)      1792      \n",
            "                                                                 \n",
            " block1_conv2 (Conv2D)       (None, 224, 224, 64)      36928     \n",
            "                                                                 \n",
            " block1_pool (MaxPooling2D)  (None, 112, 112, 64)      0         \n",
            "                                                                 \n",
            " block2_conv1 (Conv2D)       (None, 112, 112, 128)     73856     \n",
            "                                                                 \n",
            " block2_conv2 (Conv2D)       (None, 112, 112, 128)     147584    \n",
            "                                                                 \n",
            " block2_pool (MaxPooling2D)  (None, 56, 56, 128)       0         \n",
            "                                                                 \n",
            " block3_conv1 (Conv2D)       (None, 56, 56, 256)       295168    \n",
            "                                                                 \n",
            " block3_conv2 (Conv2D)       (None, 56, 56, 256)       590080    \n",
            "                                                                 \n",
            " block3_conv3 (Conv2D)       (None, 56, 56, 256)       590080    \n",
            "                                                                 \n",
            " block3_conv4 (Conv2D)       (None, 56, 56, 256)       590080    \n",
            "                                                                 \n",
            " block3_pool (MaxPooling2D)  (None, 28, 28, 256)       0         \n",
            "                                                                 \n",
            " block4_conv1 (Conv2D)       (None, 28, 28, 512)       1180160   \n",
            "                                                                 \n",
            " block4_conv2 (Conv2D)       (None, 28, 28, 512)       2359808   \n",
            "                                                                 \n",
            " block4_conv3 (Conv2D)       (None, 28, 28, 512)       2359808   \n",
            "                                                                 \n",
            " block4_conv4 (Conv2D)       (None, 28, 28, 512)       2359808   \n",
            "                                                                 \n",
            " block4_pool (MaxPooling2D)  (None, 14, 14, 512)       0         \n",
            "                                                                 \n",
            " block5_conv1 (Conv2D)       (None, 14, 14, 512)       2359808   \n",
            "                                                                 \n",
            " block5_conv2 (Conv2D)       (None, 14, 14, 512)       2359808   \n",
            "                                                                 \n",
            " block5_conv3 (Conv2D)       (None, 14, 14, 512)       2359808   \n",
            "                                                                 \n",
            " block5_conv4 (Conv2D)       (None, 14, 14, 512)       2359808   \n",
            "                                                                 \n",
            " block5_pool (MaxPooling2D)  (None, 7, 7, 512)         0         \n",
            "                                                                 \n",
            " flatten (Flatten)           (None, 25088)             0         \n",
            "                                                                 \n",
            " fc1 (Dense)                 (None, 4096)              102764544 \n",
            "                                                                 \n",
            " fc2 (Dense)                 (None, 4096)              16781312  \n",
            "                                                                 \n",
            "=================================================================\n",
            "Total params: 139,570,240\n",
            "Trainable params: 139,570,240\n",
            "Non-trainable params: 0\n",
            "_________________________________________________________________\n"
          ]
        }
      ],
      "source": [
        "# Define VGG19 Model\n",
        "from tensorflow.keras.applications.vgg19 import VGG19\n",
        "vgg_19 = VGG19()\n",
        "vgg_19 = Model(inputs=vgg_19.inputs, outputs=vgg_19.layers[-2].output)\n",
        "vgg_19.summary()"
      ]
    },
    {
      "cell_type": "code",
      "execution_count": null,
      "metadata": {
        "colab": {
          "base_uri": "https://localhost:8080/"
        },
        "id": "AAkWTBbXGaXD",
        "outputId": "107bde5b-f292-4746-b7e2-fb2eaedebf44"
      },
      "outputs": [],
      "source": [
        "train_img_features = get_features(vgg_19, 'train', train_img_mapping)\n",
        "val_img_features = get_features(vgg_19, 'val', val_img_mapping)\n",
        "test_img_features = get_features(vgg_19, 'test', test_img_mapping)"
      ]
    },
    {
      "cell_type": "code",
      "execution_count": null,
      "metadata": {
        "id": "jFEA4B5bM45O"
      },
      "outputs": [],
      "source": [
        "train_img_features_vgg19_path = os.path.join(loaded_data_path, 'train_img_features_vgg19.pkl')\n",
        "val_img_features_vgg19_path = os.path.join(loaded_data_path, 'val_img_features_vgg19.pkl')\n",
        "test_img_features_vgg19_path = os.path.join(loaded_data_path, 'test_img_features_vgg19.pkl')\n",
        "\n",
        "pickle.dump(test_img_features, open(test_img_features_vgg19_path, 'wb'))\n",
        "pickle.dump(train_img_features, open(train_img_features_vgg19_path, 'wb'))\n",
        "pickle.dump(val_img_features, open(val_img_features_vgg19_path, 'wb'))"
      ]
    },
    {
      "cell_type": "code",
      "execution_count": null,
      "metadata": {
        "id": "bTosh-JaNXlZ"
      },
      "outputs": [],
      "source": [
        "train_img_features_vgg19_path = os.path.join(loaded_data_path, 'train_img_features_vgg19.pkl')\n",
        "val_img_features_vgg19_path = os.path.join(loaded_data_path, 'val_img_features_vgg19.pkl')\n",
        "test_img_features_vgg19_path = os.path.join(loaded_data_path, 'test_img_features_vgg19.pkl')\n",
        "\n",
        "with open(train_img_features_vgg19_path, 'rb') as f:\n",
        "    train_img_features = pickle.load(f)\n",
        "with open(val_img_features_vgg19_path, 'rb') as f:\n",
        "    val_img_features = pickle.load(f)\n",
        "with open(test_img_features_vgg19_path, 'rb') as f:\n",
        "    test_img_features = pickle.load(f)"
      ]
    },
    {
      "cell_type": "code",
      "execution_count": null,
      "metadata": {
        "id": "4WS63rXwMPjJ"
      },
      "outputs": [],
      "source": [
        "img_features = dict(list(train_img_features.items()) + list(val_img_features.items()))\n",
        "img_to_captions = dict(list(train_img_to_captions.items()) + list(val_img_to_captions.items()))"
      ]
    },
    {
      "cell_type": "code",
      "execution_count": null,
      "metadata": {
        "colab": {
          "base_uri": "https://localhost:8080/",
          "height": 754
        },
        "id": "5sY_O7iYGnIJ",
        "outputId": "7ad6e81d-e3b7-4216-89ba-c9ff29b13192"
      },
      "outputs": [
        {
          "data": {
            "image/png": "[encoded data removed]",
            "text/plain": [
              "<IPython.core.display.Image object>"
            ]
          },
          "execution_count": 40,
          "metadata": {},
          "output_type": "execute_result"
        }
      ],
      "source": [
        "conv_inputs = Input(shape=(4096,))\n",
        "fe1 = Dropout(0.5)(conv_inputs)\n",
        "fe2 = Dense(256, activation='relu')(fe1)\n",
        "\n",
        "seq_inputs = Input(shape=(max_length,))\n",
        "se1 = Embedding(vocab_size, 256, mask_zero=True)(seq_inputs) # try pretrained embedding next\n",
        "se2 = Dropout(0.5)(se1)\n",
        "se3 = LSTM(256)(se2)\n",
        "\n",
        "# Decoder model\n",
        "decoder1 = add([fe2, se3])\n",
        "decoder2 = Dense(256, activation='relu')(decoder1)\n",
        "outputs = Dense(vocab_size, activation='softmax')(decoder2)\n",
        "\n",
        "model = Model(inputs=[conv_inputs, seq_inputs], outputs=outputs)\n",
        "model.compile(loss='categorical_crossentropy', optimizer='adam')\n",
        "\n",
        "plot_model(model, show_shapes=True)"
      ]
    },
    {
      "cell_type": "code",
      "execution_count": null,
      "metadata": {
        "id": "oC9XG7saHdEm"
      },
      "outputs": [],
      "source": [
        "from keras.callbacks import ModelCheckpoint, EarlyStopping\n",
        "\n",
        "# ModelCheckpoint callback - save best weights\n",
        "tl_checkpoint_1 = ModelCheckpoint(filepath=r'D:\\VizWiz Dataset\\loaded_models\\vgg19_model.hdf5',\n",
        "                                  save_best_only=True,\n",
        "                                  verbose=1)\n",
        "\n",
        "# EarlyStopping\n",
        "early_stop = EarlyStopping(monitor='val_loss',\n",
        "                           patience=5,\n",
        "                           restore_best_weights=True,\n",
        "                           mode='min')"
      ]
    },
    {
      "cell_type": "code",
      "execution_count": null,
      "metadata": {
        "colab": {
          "base_uri": "https://localhost:8080/"
        },
        "id": "Xn5TzBRjIY5Z",
        "outputId": "2204058b-5e89-47f4-88b2-ba843d5d0933"
      },
      "outputs": [
        {
          "name": "stdout",
          "output_type": "stream",
          "text": [
            "701/701 [==============================] - ETA: 0s - loss: 4.6927\n",
            "Epoch 1: val_loss improved from inf to 5.19530, saving model to /content/drive/MyDrive/VizWiz Code/loaded_data/vgg19_model5_3.hdf5\n",
            "701/701 [==============================] - 582s 829ms/step - loss: 4.6927 - val_loss: 5.1953\n",
            "701/701 [==============================] - ETA: 0s - loss: 3.7954\n",
            "Epoch 1: val_loss improved from 5.19530 to 5.11256, saving model to /content/drive/MyDrive/VizWiz Code/loaded_data/vgg19_model5_3.hdf5\n",
            "701/701 [==============================] - 580s 828ms/step - loss: 3.7954 - val_loss: 5.1126\n",
            "701/701 [==============================] - ETA: 0s - loss: 3.5000\n",
            "Epoch 1: val_loss did not improve from 5.11256\n",
            "701/701 [==============================] - 578s 824ms/step - loss: 3.5000 - val_loss: 5.2403\n",
            "701/701 [==============================] - ETA: 0s - loss: 3.2970\n",
            "Epoch 1: val_loss did not improve from 5.11256\n",
            "701/701 [==============================] - 578s 825ms/step - loss: 3.2970 - val_loss: 5.5670\n",
            "701/701 [==============================] - ETA: 0s - loss: 3.1400\n",
            "Epoch 1: val_loss did not improve from 5.11256\n",
            "701/701 [==============================] - 545s 778ms/step - loss: 3.1400 - val_loss: 5.7330\n",
            "701/701 [==============================] - ETA: 0s - loss: 3.0189\n",
            "Epoch 1: val_loss did not improve from 5.11256\n",
            "701/701 [==============================] - 547s 781ms/step - loss: 3.0189 - val_loss: 5.6985\n",
            "701/701 [==============================] - ETA: 0s - loss: 2.9265\n",
            "Epoch 1: val_loss did not improve from 5.11256\n",
            "701/701 [==============================] - 537s 767ms/step - loss: 2.9265 - val_loss: 6.0236\n",
            "701/701 [==============================] - ETA: 0s - loss: 2.8556\n",
            "Epoch 1: val_loss did not improve from 5.11256\n",
            "701/701 [==============================] - 540s 770ms/step - loss: 2.8556 - val_loss: 5.8849\n",
            "701/701 [==============================] - ETA: 0s - loss: 2.7973\n",
            "Epoch 1: val_loss did not improve from 5.11256\n",
            "701/701 [==============================] - 571s 815ms/step - loss: 2.7973 - val_loss: 6.0945\n",
            "701/701 [==============================] - ETA: 0s - loss: 2.7490\n",
            "Epoch 1: val_loss did not improve from 5.11256\n",
            "701/701 [==============================] - 577s 824ms/step - loss: 2.7490 - val_loss: 6.1620\n",
            "701/701 [==============================] - ETA: 0s - loss: 2.7083\n",
            "Epoch 1: val_loss did not improve from 5.11256\n",
            "701/701 [==============================] - 577s 823ms/step - loss: 2.7083 - val_loss: 6.3770\n",
            "701/701 [==============================] - ETA: 0s - loss: 2.6729\n",
            "Epoch 1: val_loss did not improve from 5.11256\n",
            "701/701 [==============================] - 577s 823ms/step - loss: 2.6729 - val_loss: 6.4148\n",
            "123/701 [====>.........................] - ETA: 7:13 - loss: 2.6727"
          ]
        }
      ],
      "source": [
        "epochs = 40\n",
        "batch_size = 32\n",
        "steps = len(train) // batch_size\n",
        "val_steps = len(val) // batch_size\n",
        "\n",
        "val_gen = data_generator(val, img_to_captions, img_features, tokenizer, max_length, vocab_size, batch_size)\n",
        "\n",
        "for i in range(epochs):\n",
        "    gen = data_generator(train, img_to_captions, img_features, tokenizer, max_length, vocab_size, batch_size)\n",
        "    model.fit(\n",
        "        gen, \n",
        "        epochs=1, \n",
        "        validation_data=val_gen, \n",
        "        validation_steps=val_steps, \n",
        "        steps_per_epoch=steps, \n",
        "        callbacks=[tl_checkpoint_1], \n",
        "        verbose=1)"
      ]
    },
    {
      "cell_type": "code",
      "execution_count": null,
      "metadata": {
        "id": "d0MlZM-x-8-G"
      },
      "outputs": [],
      "source": [
        "conv_inputs = Input(shape=(4096,))\n",
        "fe1 = Dropout(0.4)(conv_inputs)\n",
        "fe2 = Dense(256, activation='relu')(fe1)\n",
        "\n",
        "seq_inputs = Input(shape=(max_length,))\n",
        "se1 = Embedding(vocab_size, 256, mask_zero=True)(seq_inputs) # try pretrained embedding\n",
        "se2 = Dropout(0.4)(se1)\n",
        "se3 = LSTM(256)(se2)\n",
        "\n",
        "# Decoder model\n",
        "decoder1 = add([fe2, se3])\n",
        "decoder2 = Dense(256, activation='relu')(decoder1)\n",
        "outputs = Dense(vocab_size, activation='softmax')(decoder2)\n",
        "\n",
        "model = Model(inputs=[conv_inputs, seq_inputs], outputs=outputs)\n",
        "model.load_weights('/content/drive/MyDrive/VizWiz Code/loaded_data/vgg19_model5_3.hdf5')\n",
        "model.compile(optimizer='adam', loss='categorical_crossentropy', )"
      ]
    },
    {
      "cell_type": "markdown",
      "metadata": {},
      "source": [
        "Results for VGG19 + LST"
      ]
    },
    {
      "cell_type": "code",
      "execution_count": null,
      "metadata": {
        "colab": {
          "base_uri": "https://localhost:8080/"
        },
        "id": "6apnXrflzsfn",
        "outputId": "e7a44712-5827-48bf-d450-8c198081df20"
      },
      "outputs": [
        {
          "name": "stderr",
          "output_type": "stream",
          "text": [
            "100%|██████████| 2495/2495 [54:09<00:00,  1.30s/it]\n"
          ]
        },
        {
          "name": "stdout",
          "output_type": "stream",
          "text": [
            "BLEU-1: 0.34753209778532124\n",
            "BLEU-2: 0.23195570735436263\n"
          ]
        }
      ],
      "source": [
        "from nltk.translate.bleu_score import corpus_bleu\n",
        "import tensorflow as tf\n",
        "\n",
        "actual, predicted = list(), list()\n",
        "\n",
        "for key in tqdm(test):\n",
        "    captions = img_to_captions[key]\n",
        "    y_pred = predict_caption(model, img_features[key], tokenizer, max_length)\n",
        "\n",
        "    actual_captions = [caption.split() for caption in captions]\n",
        "    y_pred = y_pred.split()\n",
        "    actual.append(actual_captions)\n",
        "    predicted.append(y_pred)\n",
        "\n",
        "print(f'BLEU-1: {corpus_bleu(actual, predicted, weights=(1.0, 0, 0, 0))}')\n",
        "print(f'BLEU-2: {corpus_bleu(actual, predicted, weights=(0.5, 0.5, 0, 0))}')"
      ]
    },
    {
      "cell_type": "code",
      "execution_count": null,
      "metadata": {
        "id": "r51Fdjz8z0lj"
      },
      "outputs": [],
      "source": [
        "# Visualize the results for VGG19 + LSTM\n",
        "pred_random_img(model)"
      ]
    },
    {
      "cell_type": "markdown",
      "metadata": {
        "id": "FThtsHCoprs-"
      },
      "source": [
        "# **Resnet50**"
      ]
    },
    {
      "cell_type": "code",
      "execution_count": 24,
      "metadata": {
        "colab": {
          "base_uri": "https://localhost:8080/"
        },
        "id": "Q1iPa6k5pw52",
        "outputId": "5450c804-0504-4277-9ec4-587a96f4c610"
      },
      "outputs": [
        {
          "name": "stdout",
          "output_type": "stream",
          "text": [
            "Model: \"model\"\n",
            "__________________________________________________________________________________________________\n",
            " Layer (type)                   Output Shape         Param #     Connected to                     \n",
            "==================================================================================================\n",
            " input_1 (InputLayer)           [(None, 224, 224, 3  0           []                               \n",
            "                                )]                                                                \n",
            "                                                                                                  \n",
            " conv1_pad (ZeroPadding2D)      (None, 230, 230, 3)  0           ['input_1[0][0]']                \n",
            "                                                                                                  \n",
            " conv1_conv (Conv2D)            (None, 112, 112, 64  9472        ['conv1_pad[0][0]']              \n",
            "                                )                                                                 \n",
            "                                                                                                  \n",
            " conv1_bn (BatchNormalization)  (None, 112, 112, 64  256         ['conv1_conv[0][0]']             \n",
            "                                )                                                                 \n",
            "                                                                                                  \n",
            " conv1_relu (Activation)        (None, 112, 112, 64  0           ['conv1_bn[0][0]']               \n",
            "                                )                                                                 \n",
            "                                                                                                  \n",
            " pool1_pad (ZeroPadding2D)      (None, 114, 114, 64  0           ['conv1_relu[0][0]']             \n",
            "                                )                                                                 \n",
            "                                                                                                  \n",
            " pool1_pool (MaxPooling2D)      (None, 56, 56, 64)   0           ['pool1_pad[0][0]']              \n",
            "                                                                                                  \n",
            " conv2_block1_1_conv (Conv2D)   (None, 56, 56, 64)   4160        ['pool1_pool[0][0]']             \n",
            "                                                                                                  \n",
            " conv2_block1_1_bn (BatchNormal  (None, 56, 56, 64)  256         ['conv2_block1_1_conv[0][0]']    \n",
            " ization)                                                                                         \n",
            "                                                                                                  \n",
            " conv2_block1_1_relu (Activatio  (None, 56, 56, 64)  0           ['conv2_block1_1_bn[0][0]']      \n",
            " n)                                                                                               \n",
            "                                                                                                  \n",
            " conv2_block1_2_conv (Conv2D)   (None, 56, 56, 64)   36928       ['conv2_block1_1_relu[0][0]']    \n",
            "                                                                                                  \n",
            " conv2_block1_2_bn (BatchNormal  (None, 56, 56, 64)  256         ['conv2_block1_2_conv[0][0]']    \n",
            " ization)                                                                                         \n",
            "                                                                                                  \n",
            " conv2_block1_2_relu (Activatio  (None, 56, 56, 64)  0           ['conv2_block1_2_bn[0][0]']      \n",
            " n)                                                                                               \n",
            "                                                                                                  \n",
            " conv2_block1_0_conv (Conv2D)   (None, 56, 56, 256)  16640       ['pool1_pool[0][0]']             \n",
            "                                                                                                  \n",
            " conv2_block1_3_conv (Conv2D)   (None, 56, 56, 256)  16640       ['conv2_block1_2_relu[0][0]']    \n",
            "                                                                                                  \n",
            " conv2_block1_0_bn (BatchNormal  (None, 56, 56, 256)  1024       ['conv2_block1_0_conv[0][0]']    \n",
            " ization)                                                                                         \n",
            "                                                                                                  \n",
            " conv2_block1_3_bn (BatchNormal  (None, 56, 56, 256)  1024       ['conv2_block1_3_conv[0][0]']    \n",
            " ization)                                                                                         \n",
            "                                                                                                  \n",
            " conv2_block1_add (Add)         (None, 56, 56, 256)  0           ['conv2_block1_0_bn[0][0]',      \n",
            "                                                                  'conv2_block1_3_bn[0][0]']      \n",
            "                                                                                                  \n",
            " conv2_block1_out (Activation)  (None, 56, 56, 256)  0           ['conv2_block1_add[0][0]']       \n",
            "                                                                                                  \n",
            " conv2_block2_1_conv (Conv2D)   (None, 56, 56, 64)   16448       ['conv2_block1_out[0][0]']       \n",
            "                                                                                                  \n",
            " conv2_block2_1_bn (BatchNormal  (None, 56, 56, 64)  256         ['conv2_block2_1_conv[0][0]']    \n",
            " ization)                                                                                         \n",
            "                                                                                                  \n",
            " conv2_block2_1_relu (Activatio  (None, 56, 56, 64)  0           ['conv2_block2_1_bn[0][0]']      \n",
            " n)                                                                                               \n",
            "                                                                                                  \n",
            " conv2_block2_2_conv (Conv2D)   (None, 56, 56, 64)   36928       ['conv2_block2_1_relu[0][0]']    \n",
            "                                                                                                  \n",
            " conv2_block2_2_bn (BatchNormal  (None, 56, 56, 64)  256         ['conv2_block2_2_conv[0][0]']    \n",
            " ization)                                                                                         \n",
            "                                                                                                  \n",
            " conv2_block2_2_relu (Activatio  (None, 56, 56, 64)  0           ['conv2_block2_2_bn[0][0]']      \n",
            " n)                                                                                               \n",
            "                                                                                                  \n",
            " conv2_block2_3_conv (Conv2D)   (None, 56, 56, 256)  16640       ['conv2_block2_2_relu[0][0]']    \n",
            "                                                                                                  \n",
            " conv2_block2_3_bn (BatchNormal  (None, 56, 56, 256)  1024       ['conv2_block2_3_conv[0][0]']    \n",
            " ization)                                                                                         \n",
            "                                                                                                  \n",
            " conv2_block2_add (Add)         (None, 56, 56, 256)  0           ['conv2_block1_out[0][0]',       \n",
            "                                                                  'conv2_block2_3_bn[0][0]']      \n",
            "                                                                                                  \n",
            " conv2_block2_out (Activation)  (None, 56, 56, 256)  0           ['conv2_block2_add[0][0]']       \n",
            "                                                                                                  \n",
            " conv2_block3_1_conv (Conv2D)   (None, 56, 56, 64)   16448       ['conv2_block2_out[0][0]']       \n",
            "                                                                                                  \n",
            " conv2_block3_1_bn (BatchNormal  (None, 56, 56, 64)  256         ['conv2_block3_1_conv[0][0]']    \n",
            " ization)                                                                                         \n",
            "                                                                                                  \n",
            " conv2_block3_1_relu (Activatio  (None, 56, 56, 64)  0           ['conv2_block3_1_bn[0][0]']      \n",
            " n)                                                                                               \n",
            "                                                                                                  \n",
            " conv2_block3_2_conv (Conv2D)   (None, 56, 56, 64)   36928       ['conv2_block3_1_relu[0][0]']    \n",
            "                                                                                                  \n",
            " conv2_block3_2_bn (BatchNormal  (None, 56, 56, 64)  256         ['conv2_block3_2_conv[0][0]']    \n",
            " ization)                                                                                         \n",
            "                                                                                                  \n",
            " conv2_block3_2_relu (Activatio  (None, 56, 56, 64)  0           ['conv2_block3_2_bn[0][0]']      \n",
            " n)                                                                                               \n",
            "                                                                                                  \n",
            " conv2_block3_3_conv (Conv2D)   (None, 56, 56, 256)  16640       ['conv2_block3_2_relu[0][0]']    \n",
            "                                                                                                  \n",
            " conv2_block3_3_bn (BatchNormal  (None, 56, 56, 256)  1024       ['conv2_block3_3_conv[0][0]']    \n",
            " ization)                                                                                         \n",
            "                                                                                                  \n",
            " conv2_block3_add (Add)         (None, 56, 56, 256)  0           ['conv2_block2_out[0][0]',       \n",
            "                                                                  'conv2_block3_3_bn[0][0]']      \n",
            "                                                                                                  \n",
            " conv2_block3_out (Activation)  (None, 56, 56, 256)  0           ['conv2_block3_add[0][0]']       \n",
            "                                                                                                  \n",
            " conv3_block1_1_conv (Conv2D)   (None, 28, 28, 128)  32896       ['conv2_block3_out[0][0]']       \n",
            "                                                                                                  \n",
            " conv3_block1_1_bn (BatchNormal  (None, 28, 28, 128)  512        ['conv3_block1_1_conv[0][0]']    \n",
            " ization)                                                                                         \n",
            "                                                                                                  \n",
            " conv3_block1_1_relu (Activatio  (None, 28, 28, 128)  0          ['conv3_block1_1_bn[0][0]']      \n",
            " n)                                                                                               \n",
            "                                                                                                  \n",
            " conv3_block1_2_conv (Conv2D)   (None, 28, 28, 128)  147584      ['conv3_block1_1_relu[0][0]']    \n",
            "                                                                                                  \n",
            " conv3_block1_2_bn (BatchNormal  (None, 28, 28, 128)  512        ['conv3_block1_2_conv[0][0]']    \n",
            " ization)                                                                                         \n",
            "                                                                                                  \n",
            " conv3_block1_2_relu (Activatio  (None, 28, 28, 128)  0          ['conv3_block1_2_bn[0][0]']      \n",
            " n)                                                                                               \n",
            "                                                                                                  \n",
            " conv3_block1_0_conv (Conv2D)   (None, 28, 28, 512)  131584      ['conv2_block3_out[0][0]']       \n",
            "                                                                                                  \n",
            " conv3_block1_3_conv (Conv2D)   (None, 28, 28, 512)  66048       ['conv3_block1_2_relu[0][0]']    \n",
            "                                                                                                  \n",
            " conv3_block1_0_bn (BatchNormal  (None, 28, 28, 512)  2048       ['conv3_block1_0_conv[0][0]']    \n",
            " ization)                                                                                         \n",
            "                                                                                                  \n",
            " conv3_block1_3_bn (BatchNormal  (None, 28, 28, 512)  2048       ['conv3_block1_3_conv[0][0]']    \n",
            " ization)                                                                                         \n",
            "                                                                                                  \n",
            " conv3_block1_add (Add)         (None, 28, 28, 512)  0           ['conv3_block1_0_bn[0][0]',      \n",
            "                                                                  'conv3_block1_3_bn[0][0]']      \n",
            "                                                                                                  \n",
            " conv3_block1_out (Activation)  (None, 28, 28, 512)  0           ['conv3_block1_add[0][0]']       \n",
            "                                                                                                  \n",
            " conv3_block2_1_conv (Conv2D)   (None, 28, 28, 128)  65664       ['conv3_block1_out[0][0]']       \n",
            "                                                                                                  \n",
            " conv3_block2_1_bn (BatchNormal  (None, 28, 28, 128)  512        ['conv3_block2_1_conv[0][0]']    \n",
            " ization)                                                                                         \n",
            "                                                                                                  \n",
            " conv3_block2_1_relu (Activatio  (None, 28, 28, 128)  0          ['conv3_block2_1_bn[0][0]']      \n",
            " n)                                                                                               \n",
            "                                                                                                  \n",
            " conv3_block2_2_conv (Conv2D)   (None, 28, 28, 128)  147584      ['conv3_block2_1_relu[0][0]']    \n",
            "                                                                                                  \n",
            " conv3_block2_2_bn (BatchNormal  (None, 28, 28, 128)  512        ['conv3_block2_2_conv[0][0]']    \n",
            " ization)                                                                                         \n",
            "                                                                                                  \n",
            " conv3_block2_2_relu (Activatio  (None, 28, 28, 128)  0          ['conv3_block2_2_bn[0][0]']      \n",
            " n)                                                                                               \n",
            "                                                                                                  \n",
            " conv3_block2_3_conv (Conv2D)   (None, 28, 28, 512)  66048       ['conv3_block2_2_relu[0][0]']    \n",
            "                                                                                                  \n",
            " conv3_block2_3_bn (BatchNormal  (None, 28, 28, 512)  2048       ['conv3_block2_3_conv[0][0]']    \n",
            " ization)                                                                                         \n",
            "                                                                                                  \n",
            " conv3_block2_add (Add)         (None, 28, 28, 512)  0           ['conv3_block1_out[0][0]',       \n",
            "                                                                  'conv3_block2_3_bn[0][0]']      \n",
            "                                                                                                  \n",
            " conv3_block2_out (Activation)  (None, 28, 28, 512)  0           ['conv3_block2_add[0][0]']       \n",
            "                                                                                                  \n",
            " conv3_block3_1_conv (Conv2D)   (None, 28, 28, 128)  65664       ['conv3_block2_out[0][0]']       \n",
            "                                                                                                  \n",
            " conv3_block3_1_bn (BatchNormal  (None, 28, 28, 128)  512        ['conv3_block3_1_conv[0][0]']    \n",
            " ization)                                                                                         \n",
            "                                                                                                  \n",
            " conv3_block3_1_relu (Activatio  (None, 28, 28, 128)  0          ['conv3_block3_1_bn[0][0]']      \n",
            " n)                                                                                               \n",
            "                                                                                                  \n",
            " conv3_block3_2_conv (Conv2D)   (None, 28, 28, 128)  147584      ['conv3_block3_1_relu[0][0]']    \n",
            "                                                                                                  \n",
            " conv3_block3_2_bn (BatchNormal  (None, 28, 28, 128)  512        ['conv3_block3_2_conv[0][0]']    \n",
            " ization)                                                                                         \n",
            "                                                                                                  \n",
            " conv3_block3_2_relu (Activatio  (None, 28, 28, 128)  0          ['conv3_block3_2_bn[0][0]']      \n",
            " n)                                                                                               \n",
            "                                                                                                  \n",
            " conv3_block3_3_conv (Conv2D)   (None, 28, 28, 512)  66048       ['conv3_block3_2_relu[0][0]']    \n",
            "                                                                                                  \n",
            " conv3_block3_3_bn (BatchNormal  (None, 28, 28, 512)  2048       ['conv3_block3_3_conv[0][0]']    \n",
            " ization)                                                                                         \n",
            "                                                                                                  \n",
            " conv3_block3_add (Add)         (None, 28, 28, 512)  0           ['conv3_block2_out[0][0]',       \n",
            "                                                                  'conv3_block3_3_bn[0][0]']      \n",
            "                                                                                                  \n",
            " conv3_block3_out (Activation)  (None, 28, 28, 512)  0           ['conv3_block3_add[0][0]']       \n",
            "                                                                                                  \n",
            " conv3_block4_1_conv (Conv2D)   (None, 28, 28, 128)  65664       ['conv3_block3_out[0][0]']       \n",
            "                                                                                                  \n",
            " conv3_block4_1_bn (BatchNormal  (None, 28, 28, 128)  512        ['conv3_block4_1_conv[0][0]']    \n",
            " ization)                                                                                         \n",
            "                                                                                                  \n",
            " conv3_block4_1_relu (Activatio  (None, 28, 28, 128)  0          ['conv3_block4_1_bn[0][0]']      \n",
            " n)                                                                                               \n",
            "                                                                                                  \n",
            " conv3_block4_2_conv (Conv2D)   (None, 28, 28, 128)  147584      ['conv3_block4_1_relu[0][0]']    \n",
            "                                                                                                  \n",
            " conv3_block4_2_bn (BatchNormal  (None, 28, 28, 128)  512        ['conv3_block4_2_conv[0][0]']    \n",
            " ization)                                                                                         \n",
            "                                                                                                  \n",
            " conv3_block4_2_relu (Activatio  (None, 28, 28, 128)  0          ['conv3_block4_2_bn[0][0]']      \n",
            " n)                                                                                               \n",
            "                                                                                                  \n",
            " conv3_block4_3_conv (Conv2D)   (None, 28, 28, 512)  66048       ['conv3_block4_2_relu[0][0]']    \n",
            "                                                                                                  \n",
            " conv3_block4_3_bn (BatchNormal  (None, 28, 28, 512)  2048       ['conv3_block4_3_conv[0][0]']    \n",
            " ization)                                                                                         \n",
            "                                                                                                  \n",
            " conv3_block4_add (Add)         (None, 28, 28, 512)  0           ['conv3_block3_out[0][0]',       \n",
            "                                                                  'conv3_block4_3_bn[0][0]']      \n",
            "                                                                                                  \n",
            " conv3_block4_out (Activation)  (None, 28, 28, 512)  0           ['conv3_block4_add[0][0]']       \n",
            "                                                                                                  \n",
            " conv4_block1_1_conv (Conv2D)   (None, 14, 14, 256)  131328      ['conv3_block4_out[0][0]']       \n",
            "                                                                                                  \n",
            " conv4_block1_1_bn (BatchNormal  (None, 14, 14, 256)  1024       ['conv4_block1_1_conv[0][0]']    \n",
            " ization)                                                                                         \n",
            "                                                                                                  \n",
            " conv4_block1_1_relu (Activatio  (None, 14, 14, 256)  0          ['conv4_block1_1_bn[0][0]']      \n",
            " n)                                                                                               \n",
            "                                                                                                  \n",
            " conv4_block1_2_conv (Conv2D)   (None, 14, 14, 256)  590080      ['conv4_block1_1_relu[0][0]']    \n",
            "                                                                                                  \n",
            " conv4_block1_2_bn (BatchNormal  (None, 14, 14, 256)  1024       ['conv4_block1_2_conv[0][0]']    \n",
            " ization)                                                                                         \n",
            "                                                                                                  \n",
            " conv4_block1_2_relu (Activatio  (None, 14, 14, 256)  0          ['conv4_block1_2_bn[0][0]']      \n",
            " n)                                                                                               \n",
            "                                                                                                  \n",
            " conv4_block1_0_conv (Conv2D)   (None, 14, 14, 1024  525312      ['conv3_block4_out[0][0]']       \n",
            "                                )                                                                 \n",
            "                                                                                                  \n",
            " conv4_block1_3_conv (Conv2D)   (None, 14, 14, 1024  263168      ['conv4_block1_2_relu[0][0]']    \n",
            "                                )                                                                 \n",
            "                                                                                                  \n",
            " conv4_block1_0_bn (BatchNormal  (None, 14, 14, 1024  4096       ['conv4_block1_0_conv[0][0]']    \n",
            " ization)                       )                                                                 \n",
            "                                                                                                  \n",
            " conv4_block1_3_bn (BatchNormal  (None, 14, 14, 1024  4096       ['conv4_block1_3_conv[0][0]']    \n",
            " ization)                       )                                                                 \n",
            "                                                                                                  \n",
            " conv4_block1_add (Add)         (None, 14, 14, 1024  0           ['conv4_block1_0_bn[0][0]',      \n",
            "                                )                                 'conv4_block1_3_bn[0][0]']      \n",
            "                                                                                                  \n",
            " conv4_block1_out (Activation)  (None, 14, 14, 1024  0           ['conv4_block1_add[0][0]']       \n",
            "                                )                                                                 \n",
            "                                                                                                  \n",
            " conv4_block2_1_conv (Conv2D)   (None, 14, 14, 256)  262400      ['conv4_block1_out[0][0]']       \n",
            "                                                                                                  \n",
            " conv4_block2_1_bn (BatchNormal  (None, 14, 14, 256)  1024       ['conv4_block2_1_conv[0][0]']    \n",
            " ization)                                                                                         \n",
            "                                                                                                  \n",
            " conv4_block2_1_relu (Activatio  (None, 14, 14, 256)  0          ['conv4_block2_1_bn[0][0]']      \n",
            " n)                                                                                               \n",
            "                                                                                                  \n",
            " conv4_block2_2_conv (Conv2D)   (None, 14, 14, 256)  590080      ['conv4_block2_1_relu[0][0]']    \n",
            "                                                                                                  \n",
            " conv4_block2_2_bn (BatchNormal  (None, 14, 14, 256)  1024       ['conv4_block2_2_conv[0][0]']    \n",
            " ization)                                                                                         \n",
            "                                                                                                  \n",
            " conv4_block2_2_relu (Activatio  (None, 14, 14, 256)  0          ['conv4_block2_2_bn[0][0]']      \n",
            " n)                                                                                               \n",
            "                                                                                                  \n",
            " conv4_block2_3_conv (Conv2D)   (None, 14, 14, 1024  263168      ['conv4_block2_2_relu[0][0]']    \n",
            "                                )                                                                 \n",
            "                                                                                                  \n",
            " conv4_block2_3_bn (BatchNormal  (None, 14, 14, 1024  4096       ['conv4_block2_3_conv[0][0]']    \n",
            " ization)                       )                                                                 \n",
            "                                                                                                  \n",
            " conv4_block2_add (Add)         (None, 14, 14, 1024  0           ['conv4_block1_out[0][0]',       \n",
            "                                )                                 'conv4_block2_3_bn[0][0]']      \n",
            "                                                                                                  \n",
            " conv4_block2_out (Activation)  (None, 14, 14, 1024  0           ['conv4_block2_add[0][0]']       \n",
            "                                )                                                                 \n",
            "                                                                                                  \n",
            " conv4_block3_1_conv (Conv2D)   (None, 14, 14, 256)  262400      ['conv4_block2_out[0][0]']       \n",
            "                                                                                                  \n",
            " conv4_block3_1_bn (BatchNormal  (None, 14, 14, 256)  1024       ['conv4_block3_1_conv[0][0]']    \n",
            " ization)                                                                                         \n",
            "                                                                                                  \n",
            " conv4_block3_1_relu (Activatio  (None, 14, 14, 256)  0          ['conv4_block3_1_bn[0][0]']      \n",
            " n)                                                                                               \n",
            "                                                                                                  \n",
            " conv4_block3_2_conv (Conv2D)   (None, 14, 14, 256)  590080      ['conv4_block3_1_relu[0][0]']    \n",
            "                                                                                                  \n",
            " conv4_block3_2_bn (BatchNormal  (None, 14, 14, 256)  1024       ['conv4_block3_2_conv[0][0]']    \n",
            " ization)                                                                                         \n",
            "                                                                                                  \n",
            " conv4_block3_2_relu (Activatio  (None, 14, 14, 256)  0          ['conv4_block3_2_bn[0][0]']      \n",
            " n)                                                                                               \n",
            "                                                                                                  \n",
            " conv4_block3_3_conv (Conv2D)   (None, 14, 14, 1024  263168      ['conv4_block3_2_relu[0][0]']    \n",
            "                                )                                                                 \n",
            "                                                                                                  \n",
            " conv4_block3_3_bn (BatchNormal  (None, 14, 14, 1024  4096       ['conv4_block3_3_conv[0][0]']    \n",
            " ization)                       )                                                                 \n",
            "                                                                                                  \n",
            " conv4_block3_add (Add)         (None, 14, 14, 1024  0           ['conv4_block2_out[0][0]',       \n",
            "                                )                                 'conv4_block3_3_bn[0][0]']      \n",
            "                                                                                                  \n",
            " conv4_block3_out (Activation)  (None, 14, 14, 1024  0           ['conv4_block3_add[0][0]']       \n",
            "                                )                                                                 \n",
            "                                                                                                  \n",
            " conv4_block4_1_conv (Conv2D)   (None, 14, 14, 256)  262400      ['conv4_block3_out[0][0]']       \n",
            "                                                                                                  \n",
            " conv4_block4_1_bn (BatchNormal  (None, 14, 14, 256)  1024       ['conv4_block4_1_conv[0][0]']    \n",
            " ization)                                                                                         \n",
            "                                                                                                  \n",
            " conv4_block4_1_relu (Activatio  (None, 14, 14, 256)  0          ['conv4_block4_1_bn[0][0]']      \n",
            " n)                                                                                               \n",
            "                                                                                                  \n",
            " conv4_block4_2_conv (Conv2D)   (None, 14, 14, 256)  590080      ['conv4_block4_1_relu[0][0]']    \n",
            "                                                                                                  \n",
            " conv4_block4_2_bn (BatchNormal  (None, 14, 14, 256)  1024       ['conv4_block4_2_conv[0][0]']    \n",
            " ization)                                                                                         \n",
            "                                                                                                  \n",
            " conv4_block4_2_relu (Activatio  (None, 14, 14, 256)  0          ['conv4_block4_2_bn[0][0]']      \n",
            " n)                                                                                               \n",
            "                                                                                                  \n",
            " conv4_block4_3_conv (Conv2D)   (None, 14, 14, 1024  263168      ['conv4_block4_2_relu[0][0]']    \n",
            "                                )                                                                 \n",
            "                                                                                                  \n",
            " conv4_block4_3_bn (BatchNormal  (None, 14, 14, 1024  4096       ['conv4_block4_3_conv[0][0]']    \n",
            " ization)                       )                                                                 \n",
            "                                                                                                  \n",
            " conv4_block4_add (Add)         (None, 14, 14, 1024  0           ['conv4_block3_out[0][0]',       \n",
            "                                )                                 'conv4_block4_3_bn[0][0]']      \n",
            "                                                                                                  \n",
            " conv4_block4_out (Activation)  (None, 14, 14, 1024  0           ['conv4_block4_add[0][0]']       \n",
            "                                )                                                                 \n",
            "                                                                                                  \n",
            " conv4_block5_1_conv (Conv2D)   (None, 14, 14, 256)  262400      ['conv4_block4_out[0][0]']       \n",
            "                                                                                                  \n",
            " conv4_block5_1_bn (BatchNormal  (None, 14, 14, 256)  1024       ['conv4_block5_1_conv[0][0]']    \n",
            " ization)                                                                                         \n",
            "                                                                                                  \n",
            " conv4_block5_1_relu (Activatio  (None, 14, 14, 256)  0          ['conv4_block5_1_bn[0][0]']      \n",
            " n)                                                                                               \n",
            "                                                                                                  \n",
            " conv4_block5_2_conv (Conv2D)   (None, 14, 14, 256)  590080      ['conv4_block5_1_relu[0][0]']    \n",
            "                                                                                                  \n",
            " conv4_block5_2_bn (BatchNormal  (None, 14, 14, 256)  1024       ['conv4_block5_2_conv[0][0]']    \n",
            " ization)                                                                                         \n",
            "                                                                                                  \n",
            " conv4_block5_2_relu (Activatio  (None, 14, 14, 256)  0          ['conv4_block5_2_bn[0][0]']      \n",
            " n)                                                                                               \n",
            "                                                                                                  \n",
            " conv4_block5_3_conv (Conv2D)   (None, 14, 14, 1024  263168      ['conv4_block5_2_relu[0][0]']    \n",
            "                                )                                                                 \n",
            "                                                                                                  \n",
            " conv4_block5_3_bn (BatchNormal  (None, 14, 14, 1024  4096       ['conv4_block5_3_conv[0][0]']    \n",
            " ization)                       )                                                                 \n",
            "                                                                                                  \n",
            " conv4_block5_add (Add)         (None, 14, 14, 1024  0           ['conv4_block4_out[0][0]',       \n",
            "                                )                                 'conv4_block5_3_bn[0][0]']      \n",
            "                                                                                                  \n",
            " conv4_block5_out (Activation)  (None, 14, 14, 1024  0           ['conv4_block5_add[0][0]']       \n",
            "                                )                                                                 \n",
            "                                                                                                  \n",
            " conv4_block6_1_conv (Conv2D)   (None, 14, 14, 256)  262400      ['conv4_block5_out[0][0]']       \n",
            "                                                                                                  \n",
            " conv4_block6_1_bn (BatchNormal  (None, 14, 14, 256)  1024       ['conv4_block6_1_conv[0][0]']    \n",
            " ization)                                                                                         \n",
            "                                                                                                  \n",
            " conv4_block6_1_relu (Activatio  (None, 14, 14, 256)  0          ['conv4_block6_1_bn[0][0]']      \n",
            " n)                                                                                               \n",
            "                                                                                                  \n",
            " conv4_block6_2_conv (Conv2D)   (None, 14, 14, 256)  590080      ['conv4_block6_1_relu[0][0]']    \n",
            "                                                                                                  \n",
            " conv4_block6_2_bn (BatchNormal  (None, 14, 14, 256)  1024       ['conv4_block6_2_conv[0][0]']    \n",
            " ization)                                                                                         \n",
            "                                                                                                  \n",
            " conv4_block6_2_relu (Activatio  (None, 14, 14, 256)  0          ['conv4_block6_2_bn[0][0]']      \n",
            " n)                                                                                               \n",
            "                                                                                                  \n",
            " conv4_block6_3_conv (Conv2D)   (None, 14, 14, 1024  263168      ['conv4_block6_2_relu[0][0]']    \n",
            "                                )                                                                 \n",
            "                                                                                                  \n",
            " conv4_block6_3_bn (BatchNormal  (None, 14, 14, 1024  4096       ['conv4_block6_3_conv[0][0]']    \n",
            " ization)                       )                                                                 \n",
            "                                                                                                  \n",
            " conv4_block6_add (Add)         (None, 14, 14, 1024  0           ['conv4_block5_out[0][0]',       \n",
            "                                )                                 'conv4_block6_3_bn[0][0]']      \n",
            "                                                                                                  \n",
            " conv4_block6_out (Activation)  (None, 14, 14, 1024  0           ['conv4_block6_add[0][0]']       \n",
            "                                )                                                                 \n",
            "                                                                                                  \n",
            " conv5_block1_1_conv (Conv2D)   (None, 7, 7, 512)    524800      ['conv4_block6_out[0][0]']       \n",
            "                                                                                                  \n",
            " conv5_block1_1_bn (BatchNormal  (None, 7, 7, 512)   2048        ['conv5_block1_1_conv[0][0]']    \n",
            " ization)                                                                                         \n",
            "                                                                                                  \n",
            " conv5_block1_1_relu (Activatio  (None, 7, 7, 512)   0           ['conv5_block1_1_bn[0][0]']      \n",
            " n)                                                                                               \n",
            "                                                                                                  \n",
            " conv5_block1_2_conv (Conv2D)   (None, 7, 7, 512)    2359808     ['conv5_block1_1_relu[0][0]']    \n",
            "                                                                                                  \n",
            " conv5_block1_2_bn (BatchNormal  (None, 7, 7, 512)   2048        ['conv5_block1_2_conv[0][0]']    \n",
            " ization)                                                                                         \n",
            "                                                                                                  \n",
            " conv5_block1_2_relu (Activatio  (None, 7, 7, 512)   0           ['conv5_block1_2_bn[0][0]']      \n",
            " n)                                                                                               \n",
            "                                                                                                  \n",
            " conv5_block1_0_conv (Conv2D)   (None, 7, 7, 2048)   2099200     ['conv4_block6_out[0][0]']       \n",
            "                                                                                                  \n",
            " conv5_block1_3_conv (Conv2D)   (None, 7, 7, 2048)   1050624     ['conv5_block1_2_relu[0][0]']    \n",
            "                                                                                                  \n",
            " conv5_block1_0_bn (BatchNormal  (None, 7, 7, 2048)  8192        ['conv5_block1_0_conv[0][0]']    \n",
            " ization)                                                                                         \n",
            "                                                                                                  \n",
            " conv5_block1_3_bn (BatchNormal  (None, 7, 7, 2048)  8192        ['conv5_block1_3_conv[0][0]']    \n",
            " ization)                                                                                         \n",
            "                                                                                                  \n",
            " conv5_block1_add (Add)         (None, 7, 7, 2048)   0           ['conv5_block1_0_bn[0][0]',      \n",
            "                                                                  'conv5_block1_3_bn[0][0]']      \n",
            "                                                                                                  \n",
            " conv5_block1_out (Activation)  (None, 7, 7, 2048)   0           ['conv5_block1_add[0][0]']       \n",
            "                                                                                                  \n",
            " conv5_block2_1_conv (Conv2D)   (None, 7, 7, 512)    1049088     ['conv5_block1_out[0][0]']       \n",
            "                                                                                                  \n",
            " conv5_block2_1_bn (BatchNormal  (None, 7, 7, 512)   2048        ['conv5_block2_1_conv[0][0]']    \n",
            " ization)                                                                                         \n",
            "                                                                                                  \n",
            " conv5_block2_1_relu (Activatio  (None, 7, 7, 512)   0           ['conv5_block2_1_bn[0][0]']      \n",
            " n)                                                                                               \n",
            "                                                                                                  \n",
            " conv5_block2_2_conv (Conv2D)   (None, 7, 7, 512)    2359808     ['conv5_block2_1_relu[0][0]']    \n",
            "                                                                                                  \n",
            " conv5_block2_2_bn (BatchNormal  (None, 7, 7, 512)   2048        ['conv5_block2_2_conv[0][0]']    \n",
            " ization)                                                                                         \n",
            "                                                                                                  \n",
            " conv5_block2_2_relu (Activatio  (None, 7, 7, 512)   0           ['conv5_block2_2_bn[0][0]']      \n",
            " n)                                                                                               \n",
            "                                                                                                  \n",
            " conv5_block2_3_conv (Conv2D)   (None, 7, 7, 2048)   1050624     ['conv5_block2_2_relu[0][0]']    \n",
            "                                                                                                  \n",
            " conv5_block2_3_bn (BatchNormal  (None, 7, 7, 2048)  8192        ['conv5_block2_3_conv[0][0]']    \n",
            " ization)                                                                                         \n",
            "                                                                                                  \n",
            " conv5_block2_add (Add)         (None, 7, 7, 2048)   0           ['conv5_block1_out[0][0]',       \n",
            "                                                                  'conv5_block2_3_bn[0][0]']      \n",
            "                                                                                                  \n",
            " conv5_block2_out (Activation)  (None, 7, 7, 2048)   0           ['conv5_block2_add[0][0]']       \n",
            "                                                                                                  \n",
            " conv5_block3_1_conv (Conv2D)   (None, 7, 7, 512)    1049088     ['conv5_block2_out[0][0]']       \n",
            "                                                                                                  \n",
            " conv5_block3_1_bn (BatchNormal  (None, 7, 7, 512)   2048        ['conv5_block3_1_conv[0][0]']    \n",
            " ization)                                                                                         \n",
            "                                                                                                  \n",
            " conv5_block3_1_relu (Activatio  (None, 7, 7, 512)   0           ['conv5_block3_1_bn[0][0]']      \n",
            " n)                                                                                               \n",
            "                                                                                                  \n",
            " conv5_block3_2_conv (Conv2D)   (None, 7, 7, 512)    2359808     ['conv5_block3_1_relu[0][0]']    \n",
            "                                                                                                  \n",
            " conv5_block3_2_bn (BatchNormal  (None, 7, 7, 512)   2048        ['conv5_block3_2_conv[0][0]']    \n",
            " ization)                                                                                         \n",
            "                                                                                                  \n",
            " conv5_block3_2_relu (Activatio  (None, 7, 7, 512)   0           ['conv5_block3_2_bn[0][0]']      \n",
            " n)                                                                                               \n",
            "                                                                                                  \n",
            " conv5_block3_3_conv (Conv2D)   (None, 7, 7, 2048)   1050624     ['conv5_block3_2_relu[0][0]']    \n",
            "                                                                                                  \n",
            " conv5_block3_3_bn (BatchNormal  (None, 7, 7, 2048)  8192        ['conv5_block3_3_conv[0][0]']    \n",
            " ization)                                                                                         \n",
            "                                                                                                  \n",
            " conv5_block3_add (Add)         (None, 7, 7, 2048)   0           ['conv5_block2_out[0][0]',       \n",
            "                                                                  'conv5_block3_3_bn[0][0]']      \n",
            "                                                                                                  \n",
            " conv5_block3_out (Activation)  (None, 7, 7, 2048)   0           ['conv5_block3_add[0][0]']       \n",
            "                                                                                                  \n",
            " avg_pool (GlobalAveragePooling  (None, 2048)        0           ['conv5_block3_out[0][0]']       \n",
            " 2D)                                                                                              \n",
            "                                                                                                  \n",
            "==================================================================================================\n",
            "Total params: 23,587,712\n",
            "Trainable params: 23,534,592\n",
            "Non-trainable params: 53,120\n",
            "__________________________________________________________________________________________________\n"
          ]
        }
      ],
      "source": [
        "from tensorflow.keras.optimizers import Adam\n",
        "# Define Resnet Model\n",
        "from tensorflow.keras.applications import ResNet50\n",
        "resnet = ResNet50()\n",
        "resnet = Model(inputs=resnet.inputs, outputs=resnet.layers[-2].output)\n",
        "resnet.summary()"
      ]
    },
    {
      "cell_type": "code",
      "execution_count": 22,
      "metadata": {
        "colab": {
          "base_uri": "https://localhost:8080/"
        },
        "id": "K4xcJYd4qjQr",
        "outputId": "54677f44-746f-4812-b4e3-974b4a3847bc"
      },
      "outputs": [
        {
          "name": "stdout",
          "output_type": "stream",
          "text": [
            "Found 400000 word vectors.\n"
          ]
        }
      ],
      "source": [
        "from tensorflow.keras import layers\n",
        "path_to_glove_file = r\"D:\\VizWiz Dataset\\glove.6B.100d.txt\"\n",
        "\n",
        "embeddings_index = {}\n",
        "with open(path_to_glove_file, encoding=\"utf8\") as f:\n",
        "    for line in f:\n",
        "        word, coefs = line.split(maxsplit=1)\n",
        "        coefs = np.fromstring(coefs, \"f\", sep=\" \")\n",
        "        embeddings_index[word] = coefs\n",
        "\n",
        "print(f\"Found {len(embeddings_index)} word vectors.\")\n",
        "\n",
        "embedding_dim = 100\n",
        "word_index = dict(zip(tokenizer.word_index, range(vocab_size)))\n",
        "\n",
        "embedding_matrix = np.zeros((150, embedding_dim))\n",
        "for word, i in word_index.items():\n",
        "    if i == 150: break\n",
        "    if i < max_length:\n",
        "        embedding_vector = embeddings_index.get(word)\n",
        "    if embedding_vector is not None:\n",
        "        embedding_matrix[i] = embedding_vector\n",
        "\n",
        "\n",
        "embedding_layer = layers.Embedding(\n",
        "    150,\n",
        "    embedding_dim,\n",
        "    embeddings_initializer=keras.initializers.Constant(embedding_matrix),\n",
        "    trainable=False,\n",
        "    mask_zero=True,\n",
        ")"
      ]
    },
    {
      "cell_type": "code",
      "execution_count": 25,
      "metadata": {},
      "outputs": [],
      "source": [
        "train_img_features_resnet_path = os.path.join(loaded_data_path, 'train_img_features_resnet.pkl')\n",
        "val_img_features_resnet_path = os.path.join(loaded_data_path, 'val_img_features_resnet.pkl')\n",
        "test_img_features_resnet_path = os.path.join(loaded_data_path, 'test_img_features_resnet.pkl')"
      ]
    },
    {
      "cell_type": "code",
      "execution_count": 31,
      "metadata": {
        "colab": {
          "base_uri": "https://localhost:8080/"
        },
        "id": "iIY-7aQBs3rn",
        "outputId": "70248ff3-3a34-4791-e025-f1b7b071a227"
      },
      "outputs": [
        {
          "name": "stderr",
          "output_type": "stream",
          "text": [
            "100%|██████████| 23954/23954 [54:27<00:00,  7.33it/s] \n",
            "100%|██████████| 7750/7750 [26:13<00:00,  4.93it/s]\n",
            "100%|██████████| 8000/8000 [34:02<00:00,  3.92it/s]\n"
          ]
        }
      ],
      "source": [
        "train_img_features = get_features(resnet, 'train', train_img_mapping)\n",
        "val_img_features = get_features(resnet, 'val', val_img_mapping)\n",
        "test_img_features = get_features(resnet, 'test', test_img_mapping)\n",
        "\n",
        "pickle.dump(test_img_features, open(test_img_features_resnet_path, 'wb'))\n",
        "pickle.dump(train_img_features, open(train_img_features_resnet_path, 'wb'))\n",
        "pickle.dump(val_img_features, open(val_img_features_resnet_path, 'wb'))"
      ]
    },
    {
      "cell_type": "code",
      "execution_count": 26,
      "metadata": {
        "id": "SeoVZjylt7i3"
      },
      "outputs": [],
      "source": [
        "with open(train_img_features_resnet_path, 'rb') as f:\n",
        "    train_img_features = pickle.load(f)\n",
        "with open(val_img_features_resnet_path, 'rb') as f:\n",
        "    val_img_features = pickle.load(f)\n",
        "with open(test_img_features_resnet_path, 'rb') as f:\n",
        "    test_img_features = pickle.load(f)"
      ]
    },
    {
      "cell_type": "code",
      "execution_count": 27,
      "metadata": {},
      "outputs": [],
      "source": [
        "img_features = dict(list(train_img_features.items()) + list(val_img_features.items()))\n",
        "train_img_features = {}\n",
        "val_img_features = {}"
      ]
    },
    {
      "cell_type": "code",
      "execution_count": 62,
      "metadata": {
        "id": "9tj-nZl4uBs7"
      },
      "outputs": [
        {
          "name": "stdout",
          "output_type": "stream",
          "text": [
            "You must install pydot (`pip install pydot`) and install graphviz (see instructions at https://graphviz.gitlab.io/download/) for plot_model/model_to_dot to work.\n"
          ]
        }
      ],
      "source": [
        "conv_inputs = Input(shape=(2048,))\n",
        "fe1 = Dropout(0.5)(conv_inputs)\n",
        "fe2 = Dense(256, activation='relu')(fe1)\n",
        "\n",
        "seq_inputs = Input(shape=(None,), dtype=\"int64\")\n",
        "seq_inputs = embedding_layer(seq_inputs)\n",
        "# se1 = Embedding(vocab_size, 256, mask_zero=True)(seq_inputs) # try pretrained embedding next\n",
        "se2 = Dropout(0.5)(seq_inputs)\n",
        "se3 = LSTM(256)(se2)\n",
        "\n",
        "# Decoder model\n",
        "decoder1 = add([fe2, se3])\n",
        "decoder2 = Dense(256, activation='relu')(decoder1)\n",
        "outputs = Dense(vocab_size, activation='softmax')(decoder2)\n",
        "\n",
        "model = Model(inputs=[conv_inputs, seq_inputs], outputs=outputs)\n",
        "model.compile(loss='categorical_crossentropy', optimizer='adam')\n",
        "\n",
        "plot_model(model, show_shapes=True)"
      ]
    },
    {
      "cell_type": "code",
      "execution_count": 5,
      "metadata": {},
      "outputs": [
        {
          "data": {
            "image/png": "[encoded data removed]",
            "text/plain": [
              "<IPython.core.display.Image object>"
            ]
          },
          "execution_count": 5,
          "metadata": {},
          "output_type": "execute_result"
        }
      ],
      "source": [
        "conv_inputs = Input(shape=(2048,))\n",
        "fe1 = Dropout(0.5)(conv_inputs)\n",
        "fe2 = Dense(256, activation='relu')(fe1)\n",
        "\n",
        "seq_inputs = Input(shape=(150,))\n",
        "se1 = Embedding(20571, 256, mask_zero=True)(seq_inputs) \n",
        "se2 = Dropout(0.5)(se1)\n",
        "se3 = Bidirectional(LSTM(128))(se2)\n",
        "\n",
        "# Decoder model\n",
        "decoder1 = add([fe2, se3])\n",
        "decoder2 = Dense(256, activation='relu')(decoder1)\n",
        "outputs = Dense(20571, activation='softmax')(decoder2)\n",
        "\n",
        "model = Model(inputs=[conv_inputs, seq_inputs], outputs=outputs)\n",
        "model.compile(loss='categorical_crossentropy', optimizer='adam')\n",
        "\n",
        "plot_model(model, show_shapes=True)"
      ]
    },
    {
      "cell_type": "code",
      "execution_count": 30,
      "metadata": {},
      "outputs": [],
      "source": [
        "conv_inputs = Input(shape=(2048,))\n",
        "fe1 = Dropout(0.5)(conv_inputs)\n",
        "fe2 = Dense(256, activation='relu')(fe1)\n",
        "\n",
        "seq_inputs = Input(shape=(max_length,))\n",
        "se1 = Embedding(vocab_size, 256, mask_zero=True)(seq_inputs) # try pretrained embedding\n",
        "se2 = Dropout(0.5)(se1)\n",
        "se3 = Bidirectional(LSTM(128))(se2)\n",
        "\n",
        "# Decoder model\n",
        "decoder1 = add([fe2, se3])\n",
        "decoder2 = Dense(256, activation='relu')(decoder1)\n",
        "outputs = Dense(vocab_size, activation='softmax')(decoder2)\n",
        "\n",
        "model = Model(inputs=[conv_inputs, seq_inputs], outputs=outputs)\n",
        "model.load_weights(os.path.join(loaded_models_path, \"resnet_model.hdf5\"))\n",
        "model.compile(loss='categorical_crossentropy', optimizer='adam')"
      ]
    },
    {
      "cell_type": "code",
      "execution_count": 34,
      "metadata": {},
      "outputs": [],
      "source": [
        "conv_inputs = Input(shape=(2048,))\n",
        "fe1 = Dropout(0.5)(conv_inputs)\n",
        "fe2 = Dense(256, activation='relu')(fe1)\n",
        "\n",
        "seq_inputs = Input(shape=(max_length,))\n",
        "se1 = Embedding(vocab_size, 256, mask_zero=True)(seq_inputs) # try pretrained embedding\n",
        "se2 = Dropout(0.5)(se1)\n",
        "se3 = LSTM(256)(se2)\n",
        "\n",
        "# Decoder model\n",
        "decoder1 = add([fe2, se3])\n",
        "decoder2 = Dense(256, activation='relu')(decoder1)\n",
        "outputs = Dense(vocab_size, activation='softmax')(decoder2)\n",
        "\n",
        "model = Model(inputs=[conv_inputs, seq_inputs], outputs=outputs)\n",
        "model.load_weights(r\"D:\\VizWiz Dataset\\loaded_models\\resnet_model1_res.hdf5\")\n",
        "model.compile(loss='categorical_crossentropy', optimizer='adam')"
      ]
    },
    {
      "cell_type": "code",
      "execution_count": 29,
      "metadata": {},
      "outputs": [],
      "source": [
        "loaded_models_path = r\"D:\\Ammar's\\Datasets\\VizWiz\""
      ]
    },
    {
      "cell_type": "code",
      "execution_count": 32,
      "metadata": {
        "id": "2_TCE60suB3p"
      },
      "outputs": [],
      "source": [
        "from keras.callbacks import ModelCheckpoint\n",
        "\n",
        "tl_checkpoint_1 = ModelCheckpoint(\n",
        "    filepath=os.path.join(loaded_models_path, 'resnet_model2.hdf5'),              \n",
        "    monitor='loss',\n",
        "    mode='min',\n",
        "    verbose=1,\n",
        "    save_best_only=True\n",
        ")\n",
        "                                  "
      ]
    },
    {
      "cell_type": "markdown",
      "metadata": {},
      "source": [
        "The following is not an error. It was interrupt on purpose. Since the model was starting to overfit, we had to stop it"
      ]
    },
    {
      "cell_type": "code",
      "execution_count": 37,
      "metadata": {},
      "outputs": [
        {
          "name": "stdout",
          "output_type": "stream",
          "text": [
            "876/876 [==============================] - ETA: 0s - loss: 2.7142\n",
            "Epoch 1: loss improved from inf to 2.71415, saving model to D:\\Ammar's\\Datasets\\VizWiz\\resnet_model2.hdf5\n",
            "876/876 [==============================] - 1061s 1s/step - loss: 2.7142\n",
            "876/876 [==============================] - ETA: 0s - loss: 2.6359\n",
            "Epoch 1: loss improved from 2.71415 to 2.63591, saving model to D:\\Ammar's\\Datasets\\VizWiz\\resnet_model2.hdf5\n",
            "876/876 [==============================] - 1045s 1s/step - loss: 2.6359\n",
            "876/876 [==============================] - ETA: 0s - loss: 2.6073\n",
            "Epoch 1: loss improved from 2.63591 to 2.60727, saving model to D:\\Ammar's\\Datasets\\VizWiz\\resnet_model2.hdf5\n",
            "876/876 [==============================] - 1012s 1s/step - loss: 2.6073\n",
            "876/876 [==============================] - ETA: 0s - loss: 2.5855\n",
            "Epoch 1: loss improved from 2.60727 to 2.58547, saving model to D:\\Ammar's\\Datasets\\VizWiz\\resnet_model2.hdf5\n",
            "876/876 [==============================] - 1002s 1s/step - loss: 2.5855\n",
            "876/876 [==============================] - ETA: 0s - loss: 2.5673\n",
            "Epoch 1: loss improved from 2.58547 to 2.56730, saving model to D:\\Ammar's\\Datasets\\VizWiz\\resnet_model2.hdf5\n",
            "876/876 [==============================] - 1050s 1s/step - loss: 2.5673\n",
            "876/876 [==============================] - ETA: 0s - loss: 2.5532\n",
            "Epoch 1: loss improved from 2.56730 to 2.55319, saving model to D:\\Ammar's\\Datasets\\VizWiz\\resnet_model2.hdf5\n",
            "876/876 [==============================] - 1062s 1s/step - loss: 2.5532\n",
            "876/876 [==============================] - ETA: 0s - loss: 2.5382\n",
            "Epoch 1: loss improved from 2.55319 to 2.53815, saving model to D:\\Ammar's\\Datasets\\VizWiz\\resnet_model2.hdf5\n",
            "876/876 [==============================] - 1016s 1s/step - loss: 2.5382\n",
            "876/876 [==============================] - ETA: 0s - loss: 2.5249\n",
            "Epoch 1: loss improved from 2.53815 to 2.52492, saving model to D:\\Ammar's\\Datasets\\VizWiz\\resnet_model2.hdf5\n",
            "876/876 [==============================] - 1005s 1s/step - loss: 2.5249\n",
            "876/876 [==============================] - ETA: 0s - loss: 2.5130\n",
            "Epoch 1: loss improved from 2.52492 to 2.51301, saving model to D:\\Ammar's\\Datasets\\VizWiz\\resnet_model2.hdf5\n",
            "876/876 [==============================] - 1005s 1s/step - loss: 2.5130\n",
            "876/876 [==============================] - ETA: 0s - loss: 2.5020\n",
            "Epoch 1: loss improved from 2.51301 to 2.50202, saving model to D:\\Ammar's\\Datasets\\VizWiz\\resnet_model2.hdf5\n",
            "876/876 [==============================] - 1014s 1s/step - loss: 2.5020\n",
            "876/876 [==============================] - ETA: 0s - loss: 2.4935\n",
            "Epoch 1: loss improved from 2.50202 to 2.49352, saving model to D:\\Ammar's\\Datasets\\VizWiz\\resnet_model2.hdf5\n",
            "876/876 [==============================] - 1042s 1s/step - loss: 2.4935\n",
            "876/876 [==============================] - ETA: 0s - loss: 2.4826\n",
            "Epoch 1: loss improved from 2.49352 to 2.48255, saving model to D:\\Ammar's\\Datasets\\VizWiz\\resnet_model2.hdf5\n",
            "876/876 [==============================] - 1019s 1s/step - loss: 2.4826\n",
            "876/876 [==============================] - ETA: 0s - loss: 2.4743\n",
            "Epoch 1: loss improved from 2.48255 to 2.47431, saving model to D:\\Ammar's\\Datasets\\VizWiz\\resnet_model2.hdf5\n",
            "876/876 [==============================] - 1042s 1s/step - loss: 2.4743\n",
            "876/876 [==============================] - ETA: 0s - loss: 2.4649\n",
            "Epoch 1: loss improved from 2.47431 to 2.46489, saving model to D:\\Ammar's\\Datasets\\VizWiz\\resnet_model2.hdf5\n",
            "876/876 [==============================] - 1050s 1s/step - loss: 2.4649\n",
            "876/876 [==============================] - ETA: 0s - loss: 2.4574\n",
            "Epoch 1: loss improved from 2.46489 to 2.45737, saving model to D:\\Ammar's\\Datasets\\VizWiz\\resnet_model2.hdf5\n",
            "876/876 [==============================] - 1049s 1s/step - loss: 2.4574\n",
            "876/876 [==============================] - ETA: 0s - loss: 2.4493\n",
            "Epoch 1: loss improved from 2.45737 to 2.44933, saving model to D:\\Ammar's\\Datasets\\VizWiz\\resnet_model2.hdf5\n",
            "876/876 [==============================] - 1012s 1s/step - loss: 2.4493\n",
            "876/876 [==============================] - ETA: 0s - loss: 2.4428\n",
            "Epoch 1: loss improved from 2.44933 to 2.44278, saving model to D:\\Ammar's\\Datasets\\VizWiz\\resnet_model2.hdf5\n",
            "876/876 [==============================] - 1086s 1s/step - loss: 2.4428\n",
            "876/876 [==============================] - ETA: 0s - loss: 2.4368\n",
            "Epoch 1: loss improved from 2.44278 to 2.43684, saving model to D:\\Ammar's\\Datasets\\VizWiz\\resnet_model2.hdf5\n",
            "876/876 [==============================] - 1070s 1s/step - loss: 2.4368\n",
            "876/876 [==============================] - ETA: 0s - loss: 2.4303\n",
            "Epoch 1: loss improved from 2.43684 to 2.43030, saving model to D:\\Ammar's\\Datasets\\VizWiz\\resnet_model2.hdf5\n",
            "876/876 [==============================] - 1055s 1s/step - loss: 2.4303\n",
            "876/876 [==============================] - ETA: 0s - loss: 2.4241\n",
            "Epoch 1: loss improved from 2.43030 to 2.42408, saving model to D:\\Ammar's\\Datasets\\VizWiz\\resnet_model2.hdf5\n",
            "876/876 [==============================] - 1018s 1s/step - loss: 2.4241\n",
            "876/876 [==============================] - ETA: 0s - loss: 2.4175\n",
            "Epoch 1: loss improved from 2.42408 to 2.41748, saving model to D:\\Ammar's\\Datasets\\VizWiz\\resnet_model2.hdf5\n",
            "876/876 [==============================] - 1003s 1s/step - loss: 2.4175\n",
            "876/876 [==============================] - ETA: 0s - loss: 2.4111\n",
            "Epoch 1: loss improved from 2.41748 to 2.41114, saving model to D:\\Ammar's\\Datasets\\VizWiz\\resnet_model2.hdf5\n",
            "876/876 [==============================] - 1005s 1s/step - loss: 2.4111\n",
            "876/876 [==============================] - ETA: 0s - loss: 2.4062\n",
            "Epoch 1: loss improved from 2.41114 to 2.40616, saving model to D:\\Ammar's\\Datasets\\VizWiz\\resnet_model2.hdf5\n",
            "876/876 [==============================] - 1001s 1s/step - loss: 2.4062\n",
            "876/876 [==============================] - ETA: 0s - loss: 2.4010\n",
            "Epoch 1: loss improved from 2.40616 to 2.40098, saving model to D:\\Ammar's\\Datasets\\VizWiz\\resnet_model2.hdf5\n",
            "876/876 [==============================] - 1004s 1s/step - loss: 2.4010\n",
            "876/876 [==============================] - ETA: 0s - loss: 2.3966\n",
            "Epoch 1: loss improved from 2.40098 to 2.39656, saving model to D:\\Ammar's\\Datasets\\VizWiz\\resnet_model2.hdf5\n",
            "876/876 [==============================] - 1029s 1s/step - loss: 2.3966\n",
            "876/876 [==============================] - ETA: 0s - loss: 2.3926\n",
            "Epoch 1: loss improved from 2.39656 to 2.39264, saving model to D:\\Ammar's\\Datasets\\VizWiz\\resnet_model2.hdf5\n",
            "876/876 [==============================] - 1049s 1s/step - loss: 2.3926\n",
            "876/876 [==============================] - ETA: 0s - loss: 2.3867\n",
            "Epoch 1: loss improved from 2.39264 to 2.38667, saving model to D:\\Ammar's\\Datasets\\VizWiz\\resnet_model2.hdf5\n",
            "876/876 [==============================] - 1030s 1s/step - loss: 2.3867\n",
            "876/876 [==============================] - ETA: 0s - loss: 2.3830\n",
            "Epoch 1: loss improved from 2.38667 to 2.38300, saving model to D:\\Ammar's\\Datasets\\VizWiz\\resnet_model2.hdf5\n",
            "876/876 [==============================] - 1016s 1s/step - loss: 2.3830\n",
            "876/876 [==============================] - ETA: 0s - loss: 2.3779\n",
            "Epoch 1: loss improved from 2.38300 to 2.37787, saving model to D:\\Ammar's\\Datasets\\VizWiz\\resnet_model2.hdf5\n",
            "876/876 [==============================] - 1004s 1s/step - loss: 2.3779\n",
            "876/876 [==============================] - ETA: 0s - loss: 2.3750\n",
            "Epoch 1: loss improved from 2.37787 to 2.37498, saving model to D:\\Ammar's\\Datasets\\VizWiz\\resnet_model2.hdf5\n",
            "876/876 [==============================] - 1005s 1s/step - loss: 2.3750\n",
            "876/876 [==============================] - ETA: 0s - loss: 2.3701\n",
            "Epoch 1: loss improved from 2.37498 to 2.37015, saving model to D:\\Ammar's\\Datasets\\VizWiz\\resnet_model2.hdf5\n",
            "876/876 [==============================] - 1037s 1s/step - loss: 2.3701\n",
            "876/876 [==============================] - ETA: 0s - loss: 2.3655\n",
            "Epoch 1: loss improved from 2.37015 to 2.36549, saving model to D:\\Ammar's\\Datasets\\VizWiz\\resnet_model2.hdf5\n",
            "876/876 [==============================] - 1046s 1s/step - loss: 2.3655\n",
            "876/876 [==============================] - ETA: 0s - loss: 2.3628\n",
            "Epoch 1: loss improved from 2.36549 to 2.36279, saving model to D:\\Ammar's\\Datasets\\VizWiz\\resnet_model2.hdf5\n",
            "876/876 [==============================] - 1060s 1s/step - loss: 2.3628\n",
            "876/876 [==============================] - ETA: 0s - loss: 2.3597\n",
            "Epoch 1: loss improved from 2.36279 to 2.35968, saving model to D:\\Ammar's\\Datasets\\VizWiz\\resnet_model2.hdf5\n",
            "876/876 [==============================] - 1044s 1s/step - loss: 2.3597\n",
            "876/876 [==============================] - ETA: 0s - loss: 2.3559\n",
            "Epoch 1: loss improved from 2.35968 to 2.35595, saving model to D:\\Ammar's\\Datasets\\VizWiz\\resnet_model2.hdf5\n",
            "876/876 [==============================] - 1027s 1s/step - loss: 2.3559\n",
            "876/876 [==============================] - ETA: 0s - loss: 2.3519\n",
            "Epoch 1: loss improved from 2.35595 to 2.35187, saving model to D:\\Ammar's\\Datasets\\VizWiz\\resnet_model2.hdf5\n",
            "876/876 [==============================] - 1020s 1s/step - loss: 2.3519\n",
            "876/876 [==============================] - ETA: 0s - loss: 2.3493\n",
            "Epoch 1: loss improved from 2.35187 to 2.34933, saving model to D:\\Ammar's\\Datasets\\VizWiz\\resnet_model2.hdf5\n",
            "876/876 [==============================] - 1040s 1s/step - loss: 2.3493\n",
            "876/876 [==============================] - ETA: 0s - loss: 2.3462\n",
            "Epoch 1: loss improved from 2.34933 to 2.34619, saving model to D:\\Ammar's\\Datasets\\VizWiz\\resnet_model2.hdf5\n",
            "876/876 [==============================] - 1046s 1s/step - loss: 2.3462\n",
            "876/876 [==============================] - ETA: 0s - loss: 2.3432\n",
            "Epoch 1: loss improved from 2.34619 to 2.34316, saving model to D:\\Ammar's\\Datasets\\VizWiz\\resnet_model2.hdf5\n",
            "876/876 [==============================] - 1065s 1s/step - loss: 2.3432\n",
            "876/876 [==============================] - ETA: 0s - loss: 2.3393\n",
            "Epoch 1: loss improved from 2.34316 to 2.33933, saving model to D:\\Ammar's\\Datasets\\VizWiz\\resnet_model2.hdf5\n",
            "876/876 [==============================] - 1065s 1s/step - loss: 2.3393\n",
            "876/876 [==============================] - ETA: 0s - loss: 2.3354\n",
            "Epoch 1: loss improved from 2.33933 to 2.33545, saving model to D:\\Ammar's\\Datasets\\VizWiz\\resnet_model2.hdf5\n",
            "876/876 [==============================] - 1033s 1s/step - loss: 2.3354\n",
            "876/876 [==============================] - ETA: 0s - loss: 2.3332\n",
            "Epoch 1: loss improved from 2.33545 to 2.33316, saving model to D:\\Ammar's\\Datasets\\VizWiz\\resnet_model2.hdf5\n",
            "876/876 [==============================] - 1070s 1s/step - loss: 2.3332\n",
            "876/876 [==============================] - ETA: 0s - loss: 2.3305\n",
            "Epoch 1: loss improved from 2.33316 to 2.33046, saving model to D:\\Ammar's\\Datasets\\VizWiz\\resnet_model2.hdf5\n",
            "876/876 [==============================] - 1075s 1s/step - loss: 2.3305\n",
            "876/876 [==============================] - ETA: 0s - loss: 2.3285\n",
            "Epoch 1: loss improved from 2.33046 to 2.32850, saving model to D:\\Ammar's\\Datasets\\VizWiz\\resnet_model2.hdf5\n",
            "876/876 [==============================] - 1050s 1s/step - loss: 2.3285\n",
            "876/876 [==============================] - ETA: 0s - loss: 2.3247\n",
            "Epoch 1: loss improved from 2.32850 to 2.32471, saving model to D:\\Ammar's\\Datasets\\VizWiz\\resnet_model2.hdf5\n",
            "876/876 [==============================] - 1026s 1s/step - loss: 2.3247\n",
            "876/876 [==============================] - ETA: 0s - loss: 2.3216\n",
            "Epoch 1: loss improved from 2.32471 to 2.32156, saving model to D:\\Ammar's\\Datasets\\VizWiz\\resnet_model2.hdf5\n",
            "876/876 [==============================] - 1053s 1s/step - loss: 2.3216\n",
            "876/876 [==============================] - ETA: 0s - loss: 2.3197\n",
            "Epoch 1: loss improved from 2.32156 to 2.31972, saving model to D:\\Ammar's\\Datasets\\VizWiz\\resnet_model2.hdf5\n",
            "876/876 [==============================] - 1056s 1s/step - loss: 2.3197\n",
            "876/876 [==============================] - ETA: 0s - loss: 2.3169\n",
            "Epoch 1: loss improved from 2.31972 to 2.31687, saving model to D:\\Ammar's\\Datasets\\VizWiz\\resnet_model2.hdf5\n",
            "876/876 [==============================] - 1017s 1s/step - loss: 2.3169\n",
            "876/876 [==============================] - ETA: 0s - loss: 2.3150\n",
            "Epoch 1: loss improved from 2.31687 to 2.31501, saving model to D:\\Ammar's\\Datasets\\VizWiz\\resnet_model2.hdf5\n",
            "876/876 [==============================] - 1006s 1s/step - loss: 2.3150\n",
            "876/876 [==============================] - ETA: 0s - loss: 2.3134\n",
            "Epoch 1: loss improved from 2.31501 to 2.31340, saving model to D:\\Ammar's\\Datasets\\VizWiz\\resnet_model2.hdf5\n",
            "876/876 [==============================] - 1007s 1s/step - loss: 2.3134\n",
            "876/876 [==============================] - ETA: 0s - loss: 2.3095\n",
            "Epoch 1: loss improved from 2.31340 to 2.30954, saving model to D:\\Ammar's\\Datasets\\VizWiz\\resnet_model2.hdf5\n",
            "876/876 [==============================] - 1008s 1s/step - loss: 2.3095\n",
            "876/876 [==============================] - ETA: 0s - loss: 2.3085\n",
            "Epoch 1: loss improved from 2.30954 to 2.30850, saving model to D:\\Ammar's\\Datasets\\VizWiz\\resnet_model2.hdf5\n",
            "876/876 [==============================] - 1006s 1s/step - loss: 2.3085\n",
            "876/876 [==============================] - ETA: 0s - loss: 2.3061\n",
            "Epoch 1: loss improved from 2.30850 to 2.30614, saving model to D:\\Ammar's\\Datasets\\VizWiz\\resnet_model2.hdf5\n",
            "876/876 [==============================] - 1006s 1s/step - loss: 2.3061\n",
            "876/876 [==============================] - ETA: 0s - loss: 2.3044\n",
            "Epoch 1: loss improved from 2.30614 to 2.30443, saving model to D:\\Ammar's\\Datasets\\VizWiz\\resnet_model2.hdf5\n",
            "876/876 [==============================] - 1008s 1s/step - loss: 2.3044\n",
            "876/876 [==============================] - ETA: 0s - loss: 2.3025\n",
            "Epoch 1: loss improved from 2.30443 to 2.30249, saving model to D:\\Ammar's\\Datasets\\VizWiz\\resnet_model2.hdf5\n",
            "876/876 [==============================] - 1010s 1s/step - loss: 2.3025\n",
            "876/876 [==============================] - ETA: 0s - loss: 2.2982\n",
            "Epoch 1: loss improved from 2.30249 to 2.29815, saving model to D:\\Ammar's\\Datasets\\VizWiz\\resnet_model2.hdf5\n",
            "876/876 [==============================] - 1007s 1s/step - loss: 2.2982\n",
            "876/876 [==============================] - ETA: 0s - loss: 2.2981\n",
            "Epoch 1: loss improved from 2.29815 to 2.29809, saving model to D:\\Ammar's\\Datasets\\VizWiz\\resnet_model2.hdf5\n",
            "876/876 [==============================] - 1007s 1s/step - loss: 2.2981\n",
            "876/876 [==============================] - ETA: 0s - loss: 2.2957\n",
            "Epoch 1: loss improved from 2.29809 to 2.29574, saving model to D:\\Ammar's\\Datasets\\VizWiz\\resnet_model2.hdf5\n",
            "876/876 [==============================] - 1006s 1s/step - loss: 2.2957\n",
            "876/876 [==============================] - ETA: 0s - loss: 2.2944\n",
            "Epoch 1: loss improved from 2.29574 to 2.29440, saving model to D:\\Ammar's\\Datasets\\VizWiz\\resnet_model2.hdf5\n",
            "876/876 [==============================] - 1006s 1s/step - loss: 2.2944\n",
            "876/876 [==============================] - ETA: 0s - loss: 2.2913\n",
            "Epoch 1: loss improved from 2.29440 to 2.29133, saving model to D:\\Ammar's\\Datasets\\VizWiz\\resnet_model2.hdf5\n",
            "876/876 [==============================] - 1005s 1s/step - loss: 2.2913\n",
            "876/876 [==============================] - ETA: 0s - loss: 2.2905\n",
            "Epoch 1: loss improved from 2.29133 to 2.29049, saving model to D:\\Ammar's\\Datasets\\VizWiz\\resnet_model2.hdf5\n",
            "876/876 [==============================] - 1008s 1s/step - loss: 2.2905\n",
            "876/876 [==============================] - ETA: 0s - loss: 2.2878\n",
            "Epoch 1: loss improved from 2.29049 to 2.28785, saving model to D:\\Ammar's\\Datasets\\VizWiz\\resnet_model2.hdf5\n",
            "876/876 [==============================] - 1007s 1s/step - loss: 2.2878\n",
            "876/876 [==============================] - ETA: 0s - loss: 2.2873\n",
            "Epoch 1: loss improved from 2.28785 to 2.28727, saving model to D:\\Ammar's\\Datasets\\VizWiz\\resnet_model2.hdf5\n",
            "876/876 [==============================] - 1006s 1s/step - loss: 2.2873\n",
            "876/876 [==============================] - ETA: 0s - loss: 2.2844\n",
            "Epoch 1: loss improved from 2.28727 to 2.28444, saving model to D:\\Ammar's\\Datasets\\VizWiz\\resnet_model2.hdf5\n",
            "876/876 [==============================] - 1009s 1s/step - loss: 2.2844\n",
            "876/876 [==============================] - ETA: 0s - loss: 2.2823\n",
            "Epoch 1: loss improved from 2.28444 to 2.28227, saving model to D:\\Ammar's\\Datasets\\VizWiz\\resnet_model2.hdf5\n",
            "876/876 [==============================] - 1007s 1s/step - loss: 2.2823\n",
            "876/876 [==============================] - ETA: 0s - loss: 2.2811\n",
            "Epoch 1: loss improved from 2.28227 to 2.28108, saving model to D:\\Ammar's\\Datasets\\VizWiz\\resnet_model2.hdf5\n",
            "876/876 [==============================] - 1009s 1s/step - loss: 2.2811\n",
            "876/876 [==============================] - ETA: 0s - loss: 2.2799\n",
            "Epoch 1: loss improved from 2.28108 to 2.27986, saving model to D:\\Ammar's\\Datasets\\VizWiz\\resnet_model2.hdf5\n",
            "876/876 [==============================] - 1022s 1s/step - loss: 2.2799\n",
            "876/876 [==============================] - ETA: 0s - loss: 2.2773\n",
            "Epoch 1: loss improved from 2.27986 to 2.27729, saving model to D:\\Ammar's\\Datasets\\VizWiz\\resnet_model2.hdf5\n",
            "876/876 [==============================] - 1037s 1s/step - loss: 2.2773\n",
            "876/876 [==============================] - ETA: 0s - loss: 2.2764\n",
            "Epoch 1: loss improved from 2.27729 to 2.27638, saving model to D:\\Ammar's\\Datasets\\VizWiz\\resnet_model2.hdf5\n",
            "876/876 [==============================] - 1029s 1s/step - loss: 2.2764\n",
            "876/876 [==============================] - ETA: 0s - loss: 2.2746\n",
            "Epoch 1: loss improved from 2.27638 to 2.27459, saving model to D:\\Ammar's\\Datasets\\VizWiz\\resnet_model2.hdf5\n",
            "876/876 [==============================] - 1047s 1s/step - loss: 2.2746\n",
            "876/876 [==============================] - ETA: 0s - loss: 2.2732\n",
            "Epoch 1: loss improved from 2.27459 to 2.27321, saving model to D:\\Ammar's\\Datasets\\VizWiz\\resnet_model2.hdf5\n",
            "876/876 [==============================] - 1070s 1s/step - loss: 2.2732\n",
            "876/876 [==============================] - ETA: 0s - loss: 2.2716\n",
            "Epoch 1: loss improved from 2.27321 to 2.27158, saving model to D:\\Ammar's\\Datasets\\VizWiz\\resnet_model2.hdf5\n",
            "876/876 [==============================] - 1050s 1s/step - loss: 2.2716\n",
            "876/876 [==============================] - ETA: 0s - loss: 2.2699\n",
            "Epoch 1: loss improved from 2.27158 to 2.26988, saving model to D:\\Ammar's\\Datasets\\VizWiz\\resnet_model2.hdf5\n",
            "876/876 [==============================] - 1041s 1s/step - loss: 2.2699\n",
            " 53/876 [>.............................] - ETA: 17:08 - loss: 2.2539"
          ]
        },
        {
          "ename": "KeyboardInterrupt",
          "evalue": "",
          "output_type": "error",
          "traceback": [
            "\u001b[1;31m---------------------------------------------------------------------------\u001b[0m",
            "\u001b[1;31mKeyboardInterrupt\u001b[0m                         Traceback (most recent call last)",
            "Cell \u001b[1;32mIn [37], line 10\u001b[0m\n\u001b[0;32m      8\u001b[0m \u001b[39mfor\u001b[39;00m i \u001b[39min\u001b[39;00m \u001b[39mrange\u001b[39m(epochs):\n\u001b[0;32m      9\u001b[0m     gen \u001b[39m=\u001b[39m data_generator(train, img_to_captions, img_features, tokenizer, max_length, vocab_size, batch_size)\n\u001b[1;32m---> 10\u001b[0m     model\u001b[39m.\u001b[39;49mfit(\n\u001b[0;32m     11\u001b[0m         gen, \n\u001b[0;32m     12\u001b[0m         epochs\u001b[39m=\u001b[39;49m\u001b[39m1\u001b[39;49m, \n\u001b[0;32m     13\u001b[0m         steps_per_epoch\u001b[39m=\u001b[39;49msteps, \n\u001b[0;32m     14\u001b[0m         callbacks\u001b[39m=\u001b[39;49m[tl_checkpoint_1], \n\u001b[0;32m     15\u001b[0m         verbose\u001b[39m=\u001b[39;49m\u001b[39m1\u001b[39;49m)\n",
            "File \u001b[1;32mc:\\Users\\Noureen Fatima\\.conda\\envs\\tf_2.4\\lib\\site-packages\\keras\\utils\\traceback_utils.py:64\u001b[0m, in \u001b[0;36mfilter_traceback.<locals>.error_handler\u001b[1;34m(*args, **kwargs)\u001b[0m\n\u001b[0;32m     62\u001b[0m filtered_tb \u001b[39m=\u001b[39m \u001b[39mNone\u001b[39;00m\n\u001b[0;32m     63\u001b[0m \u001b[39mtry\u001b[39;00m:\n\u001b[1;32m---> 64\u001b[0m   \u001b[39mreturn\u001b[39;00m fn(\u001b[39m*\u001b[39margs, \u001b[39m*\u001b[39m\u001b[39m*\u001b[39mkwargs)\n\u001b[0;32m     65\u001b[0m \u001b[39mexcept\u001b[39;00m \u001b[39mException\u001b[39;00m \u001b[39mas\u001b[39;00m e:  \u001b[39m# pylint: disable=broad-except\u001b[39;00m\n\u001b[0;32m     66\u001b[0m   filtered_tb \u001b[39m=\u001b[39m _process_traceback_frames(e\u001b[39m.\u001b[39m__traceback__)\n",
            "File \u001b[1;32mc:\\Users\\Noureen Fatima\\.conda\\envs\\tf_2.4\\lib\\site-packages\\keras\\engine\\training.py:1409\u001b[0m, in \u001b[0;36mModel.fit\u001b[1;34m(self, x, y, batch_size, epochs, verbose, callbacks, validation_split, validation_data, shuffle, class_weight, sample_weight, initial_epoch, steps_per_epoch, validation_steps, validation_batch_size, validation_freq, max_queue_size, workers, use_multiprocessing)\u001b[0m\n\u001b[0;32m   1402\u001b[0m \u001b[39mwith\u001b[39;00m tf\u001b[39m.\u001b[39mprofiler\u001b[39m.\u001b[39mexperimental\u001b[39m.\u001b[39mTrace(\n\u001b[0;32m   1403\u001b[0m     \u001b[39m'\u001b[39m\u001b[39mtrain\u001b[39m\u001b[39m'\u001b[39m,\n\u001b[0;32m   1404\u001b[0m     epoch_num\u001b[39m=\u001b[39mepoch,\n\u001b[0;32m   1405\u001b[0m     step_num\u001b[39m=\u001b[39mstep,\n\u001b[0;32m   1406\u001b[0m     batch_size\u001b[39m=\u001b[39mbatch_size,\n\u001b[0;32m   1407\u001b[0m     _r\u001b[39m=\u001b[39m\u001b[39m1\u001b[39m):\n\u001b[0;32m   1408\u001b[0m   callbacks\u001b[39m.\u001b[39mon_train_batch_begin(step)\n\u001b[1;32m-> 1409\u001b[0m   tmp_logs \u001b[39m=\u001b[39m \u001b[39mself\u001b[39;49m\u001b[39m.\u001b[39;49mtrain_function(iterator)\n\u001b[0;32m   1410\u001b[0m   \u001b[39mif\u001b[39;00m data_handler\u001b[39m.\u001b[39mshould_sync:\n\u001b[0;32m   1411\u001b[0m     context\u001b[39m.\u001b[39masync_wait()\n",
            "File \u001b[1;32m~\\AppData\\Roaming\\Python\\Python39\\site-packages\\tensorflow\\python\\util\\traceback_utils.py:150\u001b[0m, in \u001b[0;36mfilter_traceback.<locals>.error_handler\u001b[1;34m(*args, **kwargs)\u001b[0m\n\u001b[0;32m    148\u001b[0m filtered_tb \u001b[39m=\u001b[39m \u001b[39mNone\u001b[39;00m\n\u001b[0;32m    149\u001b[0m \u001b[39mtry\u001b[39;00m:\n\u001b[1;32m--> 150\u001b[0m   \u001b[39mreturn\u001b[39;00m fn(\u001b[39m*\u001b[39margs, \u001b[39m*\u001b[39m\u001b[39m*\u001b[39mkwargs)\n\u001b[0;32m    151\u001b[0m \u001b[39mexcept\u001b[39;00m \u001b[39mException\u001b[39;00m \u001b[39mas\u001b[39;00m e:\n\u001b[0;32m    152\u001b[0m   filtered_tb \u001b[39m=\u001b[39m _process_traceback_frames(e\u001b[39m.\u001b[39m__traceback__)\n",
            "File \u001b[1;32m~\\AppData\\Roaming\\Python\\Python39\\site-packages\\tensorflow\\python\\eager\\def_function.py:898\u001b[0m, in \u001b[0;36mFunction.__call__\u001b[1;34m(self, *args, **kwds)\u001b[0m\n\u001b[0;32m    895\u001b[0m compiler \u001b[39m=\u001b[39m \u001b[39m\"\u001b[39m\u001b[39mxla\u001b[39m\u001b[39m\"\u001b[39m \u001b[39mif\u001b[39;00m \u001b[39mself\u001b[39m\u001b[39m.\u001b[39m_jit_compile \u001b[39melse\u001b[39;00m \u001b[39m\"\u001b[39m\u001b[39mnonXla\u001b[39m\u001b[39m\"\u001b[39m\n\u001b[0;32m    897\u001b[0m \u001b[39mwith\u001b[39;00m OptionalXlaContext(\u001b[39mself\u001b[39m\u001b[39m.\u001b[39m_jit_compile):\n\u001b[1;32m--> 898\u001b[0m   result \u001b[39m=\u001b[39m \u001b[39mself\u001b[39m\u001b[39m.\u001b[39m_call(\u001b[39m*\u001b[39margs, \u001b[39m*\u001b[39m\u001b[39m*\u001b[39mkwds)\n\u001b[0;32m    900\u001b[0m new_tracing_count \u001b[39m=\u001b[39m \u001b[39mself\u001b[39m\u001b[39m.\u001b[39mexperimental_get_tracing_count()\n\u001b[0;32m    901\u001b[0m without_tracing \u001b[39m=\u001b[39m (tracing_count \u001b[39m==\u001b[39m new_tracing_count)\n",
            "File \u001b[1;32m~\\AppData\\Roaming\\Python\\Python39\\site-packages\\tensorflow\\python\\eager\\def_function.py:930\u001b[0m, in \u001b[0;36mFunction._call\u001b[1;34m(self, *args, **kwds)\u001b[0m\n\u001b[0;32m    927\u001b[0m   \u001b[39mself\u001b[39m\u001b[39m.\u001b[39m_lock\u001b[39m.\u001b[39mrelease()\n\u001b[0;32m    928\u001b[0m   \u001b[39m# In this case we have created variables on the first call, so we run the\u001b[39;00m\n\u001b[0;32m    929\u001b[0m   \u001b[39m# defunned version which is guaranteed to never create variables.\u001b[39;00m\n\u001b[1;32m--> 930\u001b[0m   \u001b[39mreturn\u001b[39;00m \u001b[39mself\u001b[39m\u001b[39m.\u001b[39m_stateless_fn(\u001b[39m*\u001b[39margs, \u001b[39m*\u001b[39m\u001b[39m*\u001b[39mkwds)  \u001b[39m# pylint: disable=not-callable\u001b[39;00m\n\u001b[0;32m    931\u001b[0m \u001b[39melif\u001b[39;00m \u001b[39mself\u001b[39m\u001b[39m.\u001b[39m_stateful_fn \u001b[39mis\u001b[39;00m \u001b[39mnot\u001b[39;00m \u001b[39mNone\u001b[39;00m:\n\u001b[0;32m    932\u001b[0m   \u001b[39m# Release the lock early so that multiple threads can perform the call\u001b[39;00m\n\u001b[0;32m    933\u001b[0m   \u001b[39m# in parallel.\u001b[39;00m\n\u001b[0;32m    934\u001b[0m   \u001b[39mself\u001b[39m\u001b[39m.\u001b[39m_lock\u001b[39m.\u001b[39mrelease()\n",
            "File \u001b[1;32m~\\AppData\\Roaming\\Python\\Python39\\site-packages\\tensorflow\\python\\eager\\function.py:2469\u001b[0m, in \u001b[0;36mFunction.__call__\u001b[1;34m(self, *args, **kwargs)\u001b[0m\n\u001b[0;32m   2466\u001b[0m \u001b[39mwith\u001b[39;00m \u001b[39mself\u001b[39m\u001b[39m.\u001b[39m_lock:\n\u001b[0;32m   2467\u001b[0m   (graph_function,\n\u001b[0;32m   2468\u001b[0m    filtered_flat_args) \u001b[39m=\u001b[39m \u001b[39mself\u001b[39m\u001b[39m.\u001b[39m_maybe_define_function(args, kwargs)\n\u001b[1;32m-> 2469\u001b[0m \u001b[39mreturn\u001b[39;00m graph_function\u001b[39m.\u001b[39;49m_call_flat(\n\u001b[0;32m   2470\u001b[0m     filtered_flat_args, captured_inputs\u001b[39m=\u001b[39;49mgraph_function\u001b[39m.\u001b[39;49mcaptured_inputs)\n",
            "File \u001b[1;32m~\\AppData\\Roaming\\Python\\Python39\\site-packages\\tensorflow\\python\\eager\\function.py:1835\u001b[0m, in \u001b[0;36mConcreteFunction._call_flat\u001b[1;34m(self, args, captured_inputs, cancellation_manager)\u001b[0m\n\u001b[0;32m   1831\u001b[0m possible_gradient_type \u001b[39m=\u001b[39m gradients_util\u001b[39m.\u001b[39mPossibleTapeGradientTypes(args)\n\u001b[0;32m   1832\u001b[0m \u001b[39mif\u001b[39;00m (possible_gradient_type \u001b[39m==\u001b[39m gradients_util\u001b[39m.\u001b[39mPOSSIBLE_GRADIENT_TYPES_NONE\n\u001b[0;32m   1833\u001b[0m     \u001b[39mand\u001b[39;00m executing_eagerly):\n\u001b[0;32m   1834\u001b[0m   \u001b[39m# No tape is watching; skip to running the function.\u001b[39;00m\n\u001b[1;32m-> 1835\u001b[0m   \u001b[39mreturn\u001b[39;00m \u001b[39mself\u001b[39m\u001b[39m.\u001b[39m_build_call_outputs(\u001b[39mself\u001b[39;49m\u001b[39m.\u001b[39;49m_inference_function\u001b[39m.\u001b[39;49mcall(\n\u001b[0;32m   1836\u001b[0m       ctx, args, cancellation_manager\u001b[39m=\u001b[39;49mcancellation_manager))\n\u001b[0;32m   1837\u001b[0m forward_backward \u001b[39m=\u001b[39m \u001b[39mself\u001b[39m\u001b[39m.\u001b[39m_select_forward_and_backward_functions(\n\u001b[0;32m   1838\u001b[0m     args,\n\u001b[0;32m   1839\u001b[0m     possible_gradient_type,\n\u001b[0;32m   1840\u001b[0m     executing_eagerly)\n\u001b[0;32m   1841\u001b[0m forward_function, args_with_tangents \u001b[39m=\u001b[39m forward_backward\u001b[39m.\u001b[39mforward()\n",
            "File \u001b[1;32m~\\AppData\\Roaming\\Python\\Python39\\site-packages\\tensorflow\\python\\eager\\function.py:480\u001b[0m, in \u001b[0;36m_EagerDefinedFunction.call\u001b[1;34m(self, ctx, args, cancellation_manager)\u001b[0m\n\u001b[0;32m    478\u001b[0m \u001b[39mwith\u001b[39;00m _InterpolateFunctionError(\u001b[39mself\u001b[39m):\n\u001b[0;32m    479\u001b[0m   \u001b[39mif\u001b[39;00m cancellation_manager \u001b[39mis\u001b[39;00m \u001b[39mNone\u001b[39;00m:\n\u001b[1;32m--> 480\u001b[0m     outputs \u001b[39m=\u001b[39m execute\u001b[39m.\u001b[39;49mexecute(\n\u001b[0;32m    481\u001b[0m         \u001b[39mstr\u001b[39;49m(\u001b[39mself\u001b[39;49m\u001b[39m.\u001b[39;49msignature\u001b[39m.\u001b[39;49mname),\n\u001b[0;32m    482\u001b[0m         num_outputs\u001b[39m=\u001b[39;49m\u001b[39mself\u001b[39;49m\u001b[39m.\u001b[39;49m_num_outputs,\n\u001b[0;32m    483\u001b[0m         inputs\u001b[39m=\u001b[39;49margs,\n\u001b[0;32m    484\u001b[0m         attrs\u001b[39m=\u001b[39;49mattrs,\n\u001b[0;32m    485\u001b[0m         ctx\u001b[39m=\u001b[39;49mctx)\n\u001b[0;32m    486\u001b[0m   \u001b[39melse\u001b[39;00m:\n\u001b[0;32m    487\u001b[0m     outputs \u001b[39m=\u001b[39m execute\u001b[39m.\u001b[39mexecute_with_cancellation(\n\u001b[0;32m    488\u001b[0m         \u001b[39mstr\u001b[39m(\u001b[39mself\u001b[39m\u001b[39m.\u001b[39msignature\u001b[39m.\u001b[39mname),\n\u001b[0;32m    489\u001b[0m         num_outputs\u001b[39m=\u001b[39m\u001b[39mself\u001b[39m\u001b[39m.\u001b[39m_num_outputs,\n\u001b[1;32m   (...)\u001b[0m\n\u001b[0;32m    492\u001b[0m         ctx\u001b[39m=\u001b[39mctx,\n\u001b[0;32m    493\u001b[0m         cancellation_manager\u001b[39m=\u001b[39mcancellation_manager)\n",
            "File \u001b[1;32m~\\AppData\\Roaming\\Python\\Python39\\site-packages\\tensorflow\\python\\eager\\execute.py:54\u001b[0m, in \u001b[0;36mquick_execute\u001b[1;34m(op_name, num_outputs, inputs, attrs, ctx, name)\u001b[0m\n\u001b[0;32m     52\u001b[0m \u001b[39mtry\u001b[39;00m:\n\u001b[0;32m     53\u001b[0m   ctx\u001b[39m.\u001b[39mensure_initialized()\n\u001b[1;32m---> 54\u001b[0m   tensors \u001b[39m=\u001b[39m pywrap_tfe\u001b[39m.\u001b[39;49mTFE_Py_Execute(ctx\u001b[39m.\u001b[39;49m_handle, device_name, op_name,\n\u001b[0;32m     55\u001b[0m                                       inputs, attrs, num_outputs)\n\u001b[0;32m     56\u001b[0m \u001b[39mexcept\u001b[39;00m core\u001b[39m.\u001b[39m_NotOkStatusException \u001b[39mas\u001b[39;00m e:\n\u001b[0;32m     57\u001b[0m   \u001b[39mif\u001b[39;00m name \u001b[39mis\u001b[39;00m \u001b[39mnot\u001b[39;00m \u001b[39mNone\u001b[39;00m:\n",
            "\u001b[1;31mKeyboardInterrupt\u001b[0m: "
          ]
        }
      ],
      "source": [
        "epochs = 100\n",
        "batch_size = 32\n",
        "steps = len(train) // batch_size\n",
        "# val_steps = len(val) // batch_size\n",
        "\n",
        "# val_gen = data_generator(val, img_to_captions, img_features, tokenizer, 150, vocab_size, batch_size)\n",
        "\n",
        "for i in range(epochs):\n",
        "    gen = data_generator(train, img_to_captions, img_features, tokenizer, max_length, vocab_size, batch_size)\n",
        "    model.fit(\n",
        "        gen, \n",
        "        epochs=1, \n",
        "        steps_per_epoch=steps, \n",
        "        callbacks=[tl_checkpoint_1], \n",
        "        verbose=1)                  "
      ]
    },
    {
      "cell_type": "code",
      "execution_count": 34,
      "metadata": {},
      "outputs": [
        {
          "name": "stdout",
          "output_type": "stream",
          "text": [
            "596/596 [==============================] - ETA: 0s - loss: 2.3628\n",
            "Epoch 1: loss improved from 2.37113 to 2.36278, saving model to D:\\VizWiz Dataset\\loaded_models\\resnet_model.hdf5\n",
            "596/596 [==============================] - 617s 1s/step - loss: 2.3628 - val_loss: 4.2879\n",
            "596/596 [==============================] - ETA: 0s - loss: 2.3562\n",
            "Epoch 1: loss improved from 2.36278 to 2.35620, saving model to D:\\VizWiz Dataset\\loaded_models\\resnet_model.hdf5\n",
            "596/596 [==============================] - 609s 1s/step - loss: 2.3562 - val_loss: 4.3197\n",
            "596/596 [==============================] - ETA: 0s - loss: 2.3491\n",
            "Epoch 1: loss improved from 2.35620 to 2.34912, saving model to D:\\VizWiz Dataset\\loaded_models\\resnet_model.hdf5\n",
            "596/596 [==============================] - 608s 1s/step - loss: 2.3491 - val_loss: 4.3159\n",
            "596/596 [==============================] - ETA: 0s - loss: 2.3411\n",
            "Epoch 1: loss improved from 2.34912 to 2.34113, saving model to D:\\VizWiz Dataset\\loaded_models\\resnet_model.hdf5\n",
            "596/596 [==============================] - 609s 1s/step - loss: 2.3411 - val_loss: 4.3285\n",
            "596/596 [==============================] - ETA: 0s - loss: 2.3351\n",
            "Epoch 1: loss improved from 2.34113 to 2.33510, saving model to D:\\VizWiz Dataset\\loaded_models\\resnet_model.hdf5\n",
            "596/596 [==============================] - 609s 1s/step - loss: 2.3351 - val_loss: 4.3511\n",
            "596/596 [==============================] - ETA: 0s - loss: 2.3282\n",
            "Epoch 1: loss improved from 2.33510 to 2.32817, saving model to D:\\VizWiz Dataset\\loaded_models\\resnet_model.hdf5\n",
            "596/596 [==============================] - 608s 1s/step - loss: 2.3282 - val_loss: 4.3442\n",
            "596/596 [==============================] - ETA: 0s - loss: 2.3230\n",
            "Epoch 1: loss improved from 2.32817 to 2.32302, saving model to D:\\VizWiz Dataset\\loaded_models\\resnet_model.hdf5\n",
            "596/596 [==============================] - 608s 1s/step - loss: 2.3230 - val_loss: 4.3492\n",
            "596/596 [==============================] - ETA: 0s - loss: 2.3168\n",
            "Epoch 1: loss improved from 2.32302 to 2.31676, saving model to D:\\VizWiz Dataset\\loaded_models\\resnet_model.hdf5\n",
            "596/596 [==============================] - 608s 1s/step - loss: 2.3168 - val_loss: 4.3437\n",
            "596/596 [==============================] - ETA: 0s - loss: 2.3115\n",
            "Epoch 1: loss improved from 2.31676 to 2.31149, saving model to D:\\VizWiz Dataset\\loaded_models\\resnet_model.hdf5\n",
            "596/596 [==============================] - 608s 1s/step - loss: 2.3115 - val_loss: 4.3447\n",
            "596/596 [==============================] - ETA: 0s - loss: 2.3054"
          ]
        },
        {
          "ename": "ResourceExhaustedError",
          "evalue": "Graph execution error:\n\n2 root error(s) found.\n  (0) RESOURCE_EXHAUSTED:  MemoryError: Unable to allocate 178. MiB for an array with shape (2262, 20571) and data type float32\nTraceback (most recent call last):\n\n  File \"c:\\Users\\Ammar\\AppData\\Local\\Programs\\Python\\Python310\\lib\\site-packages\\tensorflow\\python\\ops\\script_ops.py\", line 270, in __call__\n    ret = func(*args)\n\n  File \"c:\\Users\\Ammar\\AppData\\Local\\Programs\\Python\\Python310\\lib\\site-packages\\tensorflow\\python\\autograph\\impl\\api.py\", line 642, in wrapper\n    return func(*args, **kwargs)\n\n  File \"c:\\Users\\Ammar\\AppData\\Local\\Programs\\Python\\Python310\\lib\\site-packages\\tensorflow\\python\\data\\ops\\dataset_ops.py\", line 1030, in generator_py_func\n    values = next(generator_state.get_iterator(iterator_id))\n\n  File \"c:\\Users\\Ammar\\AppData\\Local\\Programs\\Python\\Python310\\lib\\site-packages\\keras\\engine\\data_adapter.py\", line 831, in wrapped_generator\n    for data in generator_fn():\n\n  File \"C:\\Users\\Ammar\\AppData\\Local\\Temp\\ipykernel_3488\\2621830726.py\", line 23, in data_generator\n    x1, x2, y = np.array(x1), np.array(x2), np.array(y)\n\nnumpy.core._exceptions._ArrayMemoryError: Unable to allocate 178. MiB for an array with shape (2262, 20571) and data type float32\n\n\n\t [[{{node PyFunc}}]]\n\t [[IteratorGetNext]]\nHint: If you want to see a list of allocated tensors when OOM happens, add report_tensor_allocations_upon_oom to RunOptions for current allocation info. This isn't available when running in Eager mode.\n\n\t [[IteratorGetNext/_10]]\nHint: If you want to see a list of allocated tensors when OOM happens, add report_tensor_allocations_upon_oom to RunOptions for current allocation info. This isn't available when running in Eager mode.\n\n  (1) RESOURCE_EXHAUSTED:  MemoryError: Unable to allocate 178. MiB for an array with shape (2262, 20571) and data type float32\nTraceback (most recent call last):\n\n  File \"c:\\Users\\Ammar\\AppData\\Local\\Programs\\Python\\Python310\\lib\\site-packages\\tensorflow\\python\\ops\\script_ops.py\", line 270, in __call__\n    ret = func(*args)\n\n  File \"c:\\Users\\Ammar\\AppData\\Local\\Programs\\Python\\Python310\\lib\\site-packages\\tensorflow\\python\\autograph\\impl\\api.py\", line 642, in wrapper\n    return func(*args, **kwargs)\n\n  File \"c:\\Users\\Ammar\\AppData\\Local\\Programs\\Python\\Python310\\lib\\site-packages\\tensorflow\\python\\data\\ops\\dataset_ops.py\", line 1030, in generator_py_func\n    values = next(generator_state.get_iterator(iterator_id))\n\n  File \"c:\\Users\\Ammar\\AppData\\Local\\Programs\\Python\\Python310\\lib\\site-packages\\keras\\engine\\data_adapter.py\", line 831, in wrapped_generator\n    for data in generator_fn():\n\n  File \"C:\\Users\\Ammar\\AppData\\Local\\Temp\\ipykernel_3488\\2621830726.py\", line 23, in data_generator\n    x1, x2, y = np.array(x1), np.array(x2), np.array(y)\n\nnumpy.core._exceptions._ArrayMemoryError: Unable to allocate 178. MiB for an array with shape (2262, 20571) and data type float32\n\n\n\t [[{{node PyFunc}}]]\n\t [[IteratorGetNext]]\nHint: If you want to see a list of allocated tensors when OOM happens, add report_tensor_allocations_upon_oom to RunOptions for current allocation info. This isn't available when running in Eager mode.\n\n0 successful operations.\n0 derived errors ignored. [Op:__inference_test_function_18312]",
          "output_type": "error",
          "traceback": [
            "\u001b[1;31m---------------------------------------------------------------------------\u001b[0m",
            "\u001b[1;31mResourceExhaustedError\u001b[0m                    Traceback (most recent call last)",
            "\u001b[1;32md:\\Copy_of_image_captioning_model.ipynb Cell 83\u001b[0m in \u001b[0;36m<cell line: 1>\u001b[1;34m()\u001b[0m\n\u001b[0;32m      <a href='vscode-notebook-cell:/d%3A/Copy_of_image_captioning_model.ipynb#Y146sZmlsZQ%3D%3D?line=0'>1</a>\u001b[0m \u001b[39mfor\u001b[39;00m i \u001b[39min\u001b[39;00m \u001b[39mrange\u001b[39m(\u001b[39m20\u001b[39m):\n\u001b[0;32m      <a href='vscode-notebook-cell:/d%3A/Copy_of_image_captioning_model.ipynb#Y146sZmlsZQ%3D%3D?line=1'>2</a>\u001b[0m     gen \u001b[39m=\u001b[39m data_generator(train, img_to_captions, img_features, tokenizer, \u001b[39m150\u001b[39m, vocab_size, batch_size)\n\u001b[1;32m----> <a href='vscode-notebook-cell:/d%3A/Copy_of_image_captioning_model.ipynb#Y146sZmlsZQ%3D%3D?line=2'>3</a>\u001b[0m     model\u001b[39m.\u001b[39;49mfit(\n\u001b[0;32m      <a href='vscode-notebook-cell:/d%3A/Copy_of_image_captioning_model.ipynb#Y146sZmlsZQ%3D%3D?line=3'>4</a>\u001b[0m         gen, \n\u001b[0;32m      <a href='vscode-notebook-cell:/d%3A/Copy_of_image_captioning_model.ipynb#Y146sZmlsZQ%3D%3D?line=4'>5</a>\u001b[0m         epochs\u001b[39m=\u001b[39;49m\u001b[39m1\u001b[39;49m, \n\u001b[0;32m      <a href='vscode-notebook-cell:/d%3A/Copy_of_image_captioning_model.ipynb#Y146sZmlsZQ%3D%3D?line=5'>6</a>\u001b[0m         validation_data\u001b[39m=\u001b[39;49mval_gen, \n\u001b[0;32m      <a href='vscode-notebook-cell:/d%3A/Copy_of_image_captioning_model.ipynb#Y146sZmlsZQ%3D%3D?line=6'>7</a>\u001b[0m         validation_steps\u001b[39m=\u001b[39;49mval_steps, \n\u001b[0;32m      <a href='vscode-notebook-cell:/d%3A/Copy_of_image_captioning_model.ipynb#Y146sZmlsZQ%3D%3D?line=7'>8</a>\u001b[0m         steps_per_epoch\u001b[39m=\u001b[39;49msteps, \n\u001b[0;32m      <a href='vscode-notebook-cell:/d%3A/Copy_of_image_captioning_model.ipynb#Y146sZmlsZQ%3D%3D?line=8'>9</a>\u001b[0m         callbacks\u001b[39m=\u001b[39;49m[tl_checkpoint_1], \n\u001b[0;32m     <a href='vscode-notebook-cell:/d%3A/Copy_of_image_captioning_model.ipynb#Y146sZmlsZQ%3D%3D?line=9'>10</a>\u001b[0m         verbose\u001b[39m=\u001b[39;49m\u001b[39m1\u001b[39;49m)\n",
            "File \u001b[1;32mc:\\Users\\Ammar\\AppData\\Local\\Programs\\Python\\Python310\\lib\\site-packages\\keras\\utils\\traceback_utils.py:67\u001b[0m, in \u001b[0;36mfilter_traceback.<locals>.error_handler\u001b[1;34m(*args, **kwargs)\u001b[0m\n\u001b[0;32m     65\u001b[0m \u001b[39mexcept\u001b[39;00m \u001b[39mException\u001b[39;00m \u001b[39mas\u001b[39;00m e:  \u001b[39m# pylint: disable=broad-except\u001b[39;00m\n\u001b[0;32m     66\u001b[0m   filtered_tb \u001b[39m=\u001b[39m _process_traceback_frames(e\u001b[39m.\u001b[39m__traceback__)\n\u001b[1;32m---> 67\u001b[0m   \u001b[39mraise\u001b[39;00m e\u001b[39m.\u001b[39mwith_traceback(filtered_tb) \u001b[39mfrom\u001b[39;00m \u001b[39mNone\u001b[39m\n\u001b[0;32m     68\u001b[0m \u001b[39mfinally\u001b[39;00m:\n\u001b[0;32m     69\u001b[0m   \u001b[39mdel\u001b[39;00m filtered_tb\n",
            "File \u001b[1;32mc:\\Users\\Ammar\\AppData\\Local\\Programs\\Python\\Python310\\lib\\site-packages\\tensorflow\\python\\eager\\execute.py:54\u001b[0m, in \u001b[0;36mquick_execute\u001b[1;34m(op_name, num_outputs, inputs, attrs, ctx, name)\u001b[0m\n\u001b[0;32m     52\u001b[0m \u001b[39mtry\u001b[39;00m:\n\u001b[0;32m     53\u001b[0m   ctx\u001b[39m.\u001b[39mensure_initialized()\n\u001b[1;32m---> 54\u001b[0m   tensors \u001b[39m=\u001b[39m pywrap_tfe\u001b[39m.\u001b[39mTFE_Py_Execute(ctx\u001b[39m.\u001b[39m_handle, device_name, op_name,\n\u001b[0;32m     55\u001b[0m                                       inputs, attrs, num_outputs)\n\u001b[0;32m     56\u001b[0m \u001b[39mexcept\u001b[39;00m core\u001b[39m.\u001b[39m_NotOkStatusException \u001b[39mas\u001b[39;00m e:\n\u001b[0;32m     57\u001b[0m   \u001b[39mif\u001b[39;00m name \u001b[39mis\u001b[39;00m \u001b[39mnot\u001b[39;00m \u001b[39mNone\u001b[39;00m:\n",
            "\u001b[1;31mResourceExhaustedError\u001b[0m: Graph execution error:\n\n2 root error(s) found.\n  (0) RESOURCE_EXHAUSTED:  MemoryError: Unable to allocate 178. MiB for an array with shape (2262, 20571) and data type float32\nTraceback (most recent call last):\n\n  File \"c:\\Users\\Ammar\\AppData\\Local\\Programs\\Python\\Python310\\lib\\site-packages\\tensorflow\\python\\ops\\script_ops.py\", line 270, in __call__\n    ret = func(*args)\n\n  File \"c:\\Users\\Ammar\\AppData\\Local\\Programs\\Python\\Python310\\lib\\site-packages\\tensorflow\\python\\autograph\\impl\\api.py\", line 642, in wrapper\n    return func(*args, **kwargs)\n\n  File \"c:\\Users\\Ammar\\AppData\\Local\\Programs\\Python\\Python310\\lib\\site-packages\\tensorflow\\python\\data\\ops\\dataset_ops.py\", line 1030, in generator_py_func\n    values = next(generator_state.get_iterator(iterator_id))\n\n  File \"c:\\Users\\Ammar\\AppData\\Local\\Programs\\Python\\Python310\\lib\\site-packages\\keras\\engine\\data_adapter.py\", line 831, in wrapped_generator\n    for data in generator_fn():\n\n  File \"C:\\Users\\Ammar\\AppData\\Local\\Temp\\ipykernel_3488\\2621830726.py\", line 23, in data_generator\n    x1, x2, y = np.array(x1), np.array(x2), np.array(y)\n\nnumpy.core._exceptions._ArrayMemoryError: Unable to allocate 178. MiB for an array with shape (2262, 20571) and data type float32\n\n\n\t [[{{node PyFunc}}]]\n\t [[IteratorGetNext]]\nHint: If you want to see a list of allocated tensors when OOM happens, add report_tensor_allocations_upon_oom to RunOptions for current allocation info. This isn't available when running in Eager mode.\n\n\t [[IteratorGetNext/_10]]\nHint: If you want to see a list of allocated tensors when OOM happens, add report_tensor_allocations_upon_oom to RunOptions for current allocation info. This isn't available when running in Eager mode.\n\n  (1) RESOURCE_EXHAUSTED:  MemoryError: Unable to allocate 178. MiB for an array with shape (2262, 20571) and data type float32\nTraceback (most recent call last):\n\n  File \"c:\\Users\\Ammar\\AppData\\Local\\Programs\\Python\\Python310\\lib\\site-packages\\tensorflow\\python\\ops\\script_ops.py\", line 270, in __call__\n    ret = func(*args)\n\n  File \"c:\\Users\\Ammar\\AppData\\Local\\Programs\\Python\\Python310\\lib\\site-packages\\tensorflow\\python\\autograph\\impl\\api.py\", line 642, in wrapper\n    return func(*args, **kwargs)\n\n  File \"c:\\Users\\Ammar\\AppData\\Local\\Programs\\Python\\Python310\\lib\\site-packages\\tensorflow\\python\\data\\ops\\dataset_ops.py\", line 1030, in generator_py_func\n    values = next(generator_state.get_iterator(iterator_id))\n\n  File \"c:\\Users\\Ammar\\AppData\\Local\\Programs\\Python\\Python310\\lib\\site-packages\\keras\\engine\\data_adapter.py\", line 831, in wrapped_generator\n    for data in generator_fn():\n\n  File \"C:\\Users\\Ammar\\AppData\\Local\\Temp\\ipykernel_3488\\2621830726.py\", line 23, in data_generator\n    x1, x2, y = np.array(x1), np.array(x2), np.array(y)\n\nnumpy.core._exceptions._ArrayMemoryError: Unable to allocate 178. MiB for an array with shape (2262, 20571) and data type float32\n\n\n\t [[{{node PyFunc}}]]\n\t [[IteratorGetNext]]\nHint: If you want to see a list of allocated tensors when OOM happens, add report_tensor_allocations_upon_oom to RunOptions for current allocation info. This isn't available when running in Eager mode.\n\n0 successful operations.\n0 derived errors ignored. [Op:__inference_test_function_18312]"
          ]
        }
      ],
      "source": [
        "for i in range(20):\n",
        "    gen = data_generator(train, img_to_captions, img_features, tokenizer, 150, vocab_size, batch_size)\n",
        "    model.fit(\n",
        "        gen, \n",
        "        epochs=1, \n",
        "        validation_data=val_gen, \n",
        "        validation_steps=val_steps, \n",
        "        steps_per_epoch=steps, \n",
        "        callbacks=[tl_checkpoint_1], \n",
        "        verbose=1)  "
      ]
    },
    {
      "cell_type": "markdown",
      "metadata": {},
      "source": [
        "Assessing the performance of ResNet50 + LSTM"
      ]
    },
    {
      "cell_type": "code",
      "execution_count": 37,
      "metadata": {},
      "outputs": [
        {
          "name": "stderr",
          "output_type": "stream",
          "text": [
            "100%|██████████| 2651/2651 [37:37<00:00,  1.17it/s]\n"
          ]
        },
        {
          "name": "stdout",
          "output_type": "stream",
          "text": [
            "BLEU-1: 0.5981942090151174\n",
            "BLEU-2: 0.4072047599550048\n"
          ]
        }
      ],
      "source": [
        "# Results for ResNet50 + LSTM\n",
        "from nltk.translate.bleu_score import corpus_bleu\n",
        "import tensorflow as tf\n",
        "\n",
        "actual, predicted = list(), list()\n",
        "\n",
        "for key in tqdm(test):\n",
        "    captions = img_to_captions[key]\n",
        "    y_pred = predict_caption(model, img_features[key], tokenizer, max_length)\n",
        "\n",
        "    actual_captions = [caption.split() for caption in captions]\n",
        "    y_pred = y_pred.split()\n",
        "    actual.append(actual_captions)\n",
        "    predicted.append(y_pred)\n",
        "\n",
        "print(f'BLEU-1: {corpus_bleu(actual, predicted, weights=(1.0, 0, 0, 0))}')\n",
        "print(f'BLEU-2: {corpus_bleu(actual, predicted, weights=(0.5, 0.5, 0, 0))}')"
      ]
    },
    {
      "cell_type": "markdown",
      "metadata": {},
      "source": [
        "Assessing the performance of ResNet50 + BI-LSTM"
      ]
    },
    {
      "cell_type": "code",
      "execution_count": 43,
      "metadata": {},
      "outputs": [
        {
          "name": "stderr",
          "output_type": "stream",
          "text": [
            "100%|██████████| 3119/3119 [1:45:24<00:00,  2.03s/it]\n"
          ]
        },
        {
          "name": "stdout",
          "output_type": "stream",
          "text": [
            "BLEU-1: 0.6086578268434631\n",
            "BLEU-2: 0.4156161074914101\n"
          ]
        }
      ],
      "source": [
        "# Results for ResNet50 + Bi-LSTM on 90 Epochs:\n",
        "import nltk\n",
        "from nltk.translate.bleu_score import corpus_bleu\n",
        "import tensorflow as tf\n",
        "\n",
        "actual, predicted = list(), list()\n",
        "\n",
        "for key in tqdm(test):\n",
        "    captions = img_to_captions[key]\n",
        "    y_pred = predict_caption(model, img_features[key], tokenizer, max_length)\n",
        "\n",
        "    actual_captions = [caption.split() for caption in captions]\n",
        "    y_pred = y_pred.split()\n",
        "    actual.append(actual_captions)\n",
        "    predicted.append(y_pred)\n",
        "\n",
        "print(f'BLEU-1: {corpus_bleu(actual, predicted, weights=(1.0, 0, 0, 0))}')\n",
        "print(f'BLEU-2: {corpus_bleu(actual, predicted, weights=(0.5, 0.5, 0, 0))}')"
      ]
    },
    {
      "cell_type": "markdown",
      "metadata": {},
      "source": [
        "Assessing ResNet50 + Bidirectional LSTM Trained on 50 Epochs"
      ]
    },
    {
      "cell_type": "code",
      "execution_count": 45,
      "metadata": {},
      "outputs": [],
      "source": [
        "conv_inputs = Input(shape=(2048,))\n",
        "fe1 = Dropout(0.5)(conv_inputs)\n",
        "fe2 = Dense(256, activation='relu')(fe1)\n",
        "\n",
        "seq_inputs = Input(shape=(max_length,))\n",
        "se1 = Embedding(vocab_size, 256, mask_zero=True)(seq_inputs)\n",
        "se2 = Dropout(0.5)(se1)\n",
        "se3 = Bidirectional(LSTM(128))(se2)\n",
        "\n",
        "# Decoder model\n",
        "decoder1 = add([fe2, se3])\n",
        "decoder2 = Dense(256, activation='relu')(decoder1)\n",
        "outputs = Dense(vocab_size, activation='softmax')(decoder2)\n",
        "\n",
        "model = Model(inputs=[conv_inputs, seq_inputs], outputs=outputs)\n",
        "model.load_weights(r\"D:\\Ammar's\\Datasets\\VizWiz\\resnet_50.hdf5\")\n",
        "model.compile(loss='categorical_crossentropy', optimizer='adam')"
      ]
    },
    {
      "cell_type": "code",
      "execution_count": 46,
      "metadata": {},
      "outputs": [
        {
          "name": "stderr",
          "output_type": "stream",
          "text": [
            "100%|██████████| 3119/3119 [1:55:37<00:00,  2.22s/it]  \n"
          ]
        },
        {
          "name": "stdout",
          "output_type": "stream",
          "text": [
            "BLEU-1: 0.6016881148393616\n",
            "BLEU-2: 0.4188710398887954\n"
          ]
        }
      ],
      "source": [
        "# Results for ResNet50 + Bi-LSTM on 50 Epochs:\n",
        "\n",
        "from nltk.translate.bleu_score import corpus_bleu\n",
        "import tensorflow as tf\n",
        "\n",
        "actual, predicted = list(), list()\n",
        "\n",
        "for key in tqdm(test):\n",
        "    captions = img_to_captions[key]\n",
        "    y_pred = predict_caption(model, img_features[key], tokenizer, max_length)\n",
        "\n",
        "    actual_captions = [caption.split() for caption in captions]\n",
        "    y_pred = y_pred.split()\n",
        "    actual.append(actual_captions)\n",
        "    predicted.append(y_pred)\n",
        "\n",
        "print(f'BLEU-1: {corpus_bleu(actual, predicted, weights=(1.0, 0, 0, 0))}')\n",
        "print(f'BLEU-2: {corpus_bleu(actual, predicted, weights=(0.5, 0.5, 0, 0))}')"
      ]
    }
  ],
  "metadata": {
    "accelerator": "GPU",
    "colab": {
      "collapsed_sections": [
        "RWhh9Yu8F-ZM"
      ],
      "provenance": []
    },
    "gpuClass": "standard",
    "kernelspec": {
      "display_name": "Python 3.10.5 64-bit",
      "language": "python",
      "name": "python3"
    },
    "language_info": {
      "codemirror_mode": {
        "name": "ipython",
        "version": 3
      },
      "file_extension": ".py",
      "mimetype": "text/x-python",
      "name": "python",
      "nbconvert_exporter": "python",
      "pygments_lexer": "ipython3",
      "version": "3.10.5"
    },
    "vscode": {
      "interpreter": {
        "hash": "7c2737f5cd3eb6a237b7123ce75c641d6f975db18b0c0702ad2055474d78171c"
      }
    }
  },
  "nbformat": 4,
  "nbformat_minor": 0
}
